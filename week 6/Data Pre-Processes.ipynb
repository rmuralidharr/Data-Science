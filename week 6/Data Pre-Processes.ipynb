{
 "cells": [
  {
   "cell_type": "markdown",
   "id": "9a9ebd06-e042-43ab-975b-eb9e764a45da",
   "metadata": {},
   "source": [
    "## Muralidhar Reddy (U6454 6777)"
   ]
  },
  {
   "cell_type": "markdown",
   "id": "8ac6247c-52a3-4a53-891c-5ddc690466c8",
   "metadata": {},
   "source": [
    "## One of the major problem in health related is obesity due to obseity so many health problem is connceted like heartattcahk, lungs failure, kidney problem ..etc\n",
    "- Based on this problem, planning to implmet stargic model to detictive the patomet have obesity or not. This result si help full for hospital managmnet, doctors and patinmets \n",
    "- Data set from UCI machine leanring https://archive.ics.uci.edu/ml/datasets/Estimation+of+obesity+levels+based+on+eating+habits+and+physical+condition+#\n"
   ]
  },
  {
   "cell_type": "code",
   "execution_count": 3,
   "id": "6b01a453-1935-4db7-be49-27e128044b5a",
   "metadata": {},
   "outputs": [],
   "source": [
    "import pandas as pd\n",
    "import numpy as np \n",
    "import matplotlib.pyplot as plt\n",
    "import sklearn.preprocessing as skp\n",
    "from sklearn.model_selection  import train_test_split as tts\n",
    "\n",
    "%matplotlib inline"
   ]
  },
  {
   "cell_type": "markdown",
   "id": "7572bead-8d4f-45c4-a84c-e0fc194981df",
   "metadata": {},
   "source": [
    "## Load the data set"
   ]
  },
  {
   "cell_type": "code",
   "execution_count": null,
   "id": "e008be23-0254-4766-9f5a-5b257df2fd0d",
   "metadata": {},
   "outputs": [],
   "source": [
    "df=p"
   ]
  }
 ],
 "metadata": {
  "kernelspec": {
   "display_name": "Python 3 (ipykernel)",
   "language": "python",
   "name": "python3"
  },
  "language_info": {
   "codemirror_mode": {
    "name": "ipython",
    "version": 3
   },
   "file_extension": ".py",
   "mimetype": "text/x-python",
   "name": "python",
   "nbconvert_exporter": "python",
   "pygments_lexer": "ipython3",
   "version": "3.9.13"
  }
 },
 "nbformat": 4,
 "nbformat_minor": 5
}
