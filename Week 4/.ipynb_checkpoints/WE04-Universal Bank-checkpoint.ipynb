{
 "cells": [
  {
   "cell_type": "markdown",
   "id": "d43e29b6-6980-48e0-b10f-2eecf6e47c31",
   "metadata": {},
   "source": [
    "## Muralidhar U64546777\n",
    "## Assignment 04 logi,svm,dtree"
   ]
  },
  {
   "cell_type": "markdown",
   "id": "05ca1773-1a8c-4629-8102-1a02b7efa214",
   "metadata": {},
   "source": [
    "## 1 import required packages"
   ]
  },
  {
   "cell_type": "code",
   "execution_count": 1,
   "id": "3ce164d4-087f-4ee5-b394-878ee9bfc8ef",
   "metadata": {},
   "outputs": [],
   "source": [
    "import pandas as pd \n",
    "import numpy as np \n",
    "\n",
    "from sklearn.model_selection import train_test_split\n",
    "from sklearn.preprocessing import StandardScaler \n",
    "from sklearn.impute import SimpleImputer\n",
    "\n",
    "from sklearn.model_selection import GridSearchCV,RandomizedSearchCV\n",
    "\n",
    "from sklearn.linear_model import LogisticRegression\n",
    "from sklearn.svm import SVC\n",
    "from sklearn.tree import DecisionTreeClassifier\n",
    "\n",
    "from sklearn.metrics import confusion_matrix\n",
    "\n",
    "\n",
    "import warnings\n",
    "warnings.filterwarnings(\"ignore\")\n",
    "np.random.seed(568)"
   ]
  },
  {
   "cell_type": "markdown",
   "id": "64d6a91d-4c0b-4031-b63a-4171c23dbff9",
   "metadata": {},
   "source": [
    "## 2 load & clean data"
   ]
  },
  {
   "cell_type": "code",
   "execution_count": 2,
   "id": "491a32ff-4240-414b-8c05-a1d0ef048ae2",
   "metadata": {},
   "outputs": [
    {
     "data": {
      "text/html": [
       "<div>\n",
       "<style scoped>\n",
       "    .dataframe tbody tr th:only-of-type {\n",
       "        vertical-align: middle;\n",
       "    }\n",
       "\n",
       "    .dataframe tbody tr th {\n",
       "        vertical-align: top;\n",
       "    }\n",
       "\n",
       "    .dataframe thead th {\n",
       "        text-align: right;\n",
       "    }\n",
       "</style>\n",
       "<table border=\"1\" class=\"dataframe\">\n",
       "  <thead>\n",
       "    <tr style=\"text-align: right;\">\n",
       "      <th></th>\n",
       "      <th>ID</th>\n",
       "      <th>Age</th>\n",
       "      <th>Experience</th>\n",
       "      <th>Income</th>\n",
       "      <th>ZIP Code</th>\n",
       "      <th>Family</th>\n",
       "      <th>CCAvg</th>\n",
       "      <th>Education</th>\n",
       "      <th>Mortgage</th>\n",
       "      <th>Personal Loan</th>\n",
       "      <th>Securities Account</th>\n",
       "      <th>CD Account</th>\n",
       "      <th>Online</th>\n",
       "      <th>CreditCard</th>\n",
       "    </tr>\n",
       "  </thead>\n",
       "  <tbody>\n",
       "    <tr>\n",
       "      <th>0</th>\n",
       "      <td>1</td>\n",
       "      <td>25</td>\n",
       "      <td>1</td>\n",
       "      <td>49</td>\n",
       "      <td>91107</td>\n",
       "      <td>4</td>\n",
       "      <td>1.6</td>\n",
       "      <td>1</td>\n",
       "      <td>0</td>\n",
       "      <td>0</td>\n",
       "      <td>1</td>\n",
       "      <td>0</td>\n",
       "      <td>0</td>\n",
       "      <td>0</td>\n",
       "    </tr>\n",
       "    <tr>\n",
       "      <th>1</th>\n",
       "      <td>2</td>\n",
       "      <td>45</td>\n",
       "      <td>19</td>\n",
       "      <td>34</td>\n",
       "      <td>90089</td>\n",
       "      <td>3</td>\n",
       "      <td>1.5</td>\n",
       "      <td>1</td>\n",
       "      <td>0</td>\n",
       "      <td>0</td>\n",
       "      <td>1</td>\n",
       "      <td>0</td>\n",
       "      <td>0</td>\n",
       "      <td>0</td>\n",
       "    </tr>\n",
       "    <tr>\n",
       "      <th>2</th>\n",
       "      <td>3</td>\n",
       "      <td>39</td>\n",
       "      <td>15</td>\n",
       "      <td>11</td>\n",
       "      <td>94720</td>\n",
       "      <td>1</td>\n",
       "      <td>1.0</td>\n",
       "      <td>1</td>\n",
       "      <td>0</td>\n",
       "      <td>0</td>\n",
       "      <td>0</td>\n",
       "      <td>0</td>\n",
       "      <td>0</td>\n",
       "      <td>0</td>\n",
       "    </tr>\n",
       "    <tr>\n",
       "      <th>3</th>\n",
       "      <td>4</td>\n",
       "      <td>35</td>\n",
       "      <td>9</td>\n",
       "      <td>100</td>\n",
       "      <td>94112</td>\n",
       "      <td>1</td>\n",
       "      <td>2.7</td>\n",
       "      <td>2</td>\n",
       "      <td>0</td>\n",
       "      <td>0</td>\n",
       "      <td>0</td>\n",
       "      <td>0</td>\n",
       "      <td>0</td>\n",
       "      <td>0</td>\n",
       "    </tr>\n",
       "    <tr>\n",
       "      <th>4</th>\n",
       "      <td>5</td>\n",
       "      <td>35</td>\n",
       "      <td>8</td>\n",
       "      <td>45</td>\n",
       "      <td>91330</td>\n",
       "      <td>4</td>\n",
       "      <td>1.0</td>\n",
       "      <td>2</td>\n",
       "      <td>0</td>\n",
       "      <td>0</td>\n",
       "      <td>0</td>\n",
       "      <td>0</td>\n",
       "      <td>0</td>\n",
       "      <td>1</td>\n",
       "    </tr>\n",
       "  </tbody>\n",
       "</table>\n",
       "</div>"
      ],
      "text/plain": [
       "   ID  Age  Experience  Income  ZIP Code  Family  CCAvg  Education  Mortgage  \\\n",
       "0   1   25           1      49     91107       4    1.6          1         0   \n",
       "1   2   45          19      34     90089       3    1.5          1         0   \n",
       "2   3   39          15      11     94720       1    1.0          1         0   \n",
       "3   4   35           9     100     94112       1    2.7          2         0   \n",
       "4   5   35           8      45     91330       4    1.0          2         0   \n",
       "\n",
       "   Personal Loan  Securities Account  CD Account  Online  CreditCard  \n",
       "0              0                   1           0       0           0  \n",
       "1              0                   1           0       0           0  \n",
       "2              0                   0           0       0           0  \n",
       "3              0                   0           0       0           0  \n",
       "4              0                   0           0       0           1  "
      ]
     },
     "execution_count": 2,
     "metadata": {},
     "output_type": "execute_result"
    }
   ],
   "source": [
    "df=pd.read_csv(r'~/Murali/DSP/Week 4/UniversalBank.csv')\n",
    "df.head()"
   ]
  },
  {
   "cell_type": "code",
   "execution_count": 3,
   "id": "4686fe0c-87c0-4e5f-9ef7-e5a37960c784",
   "metadata": {},
   "outputs": [
    {
     "name": "stdout",
     "output_type": "stream",
     "text": [
      "<class 'pandas.core.frame.DataFrame'>\n",
      "RangeIndex: 5000 entries, 0 to 4999\n",
      "Data columns (total 14 columns):\n",
      " #   Column              Non-Null Count  Dtype  \n",
      "---  ------              --------------  -----  \n",
      " 0   ID                  5000 non-null   int64  \n",
      " 1   Age                 5000 non-null   int64  \n",
      " 2   Experience          5000 non-null   int64  \n",
      " 3   Income              5000 non-null   int64  \n",
      " 4   ZIP Code            5000 non-null   int64  \n",
      " 5   Family              5000 non-null   int64  \n",
      " 6   CCAvg               5000 non-null   float64\n",
      " 7   Education           5000 non-null   int64  \n",
      " 8   Mortgage            5000 non-null   int64  \n",
      " 9   Personal Loan       5000 non-null   int64  \n",
      " 10  Securities Account  5000 non-null   int64  \n",
      " 11  CD Account          5000 non-null   int64  \n",
      " 12  Online              5000 non-null   int64  \n",
      " 13  CreditCard          5000 non-null   int64  \n",
      "dtypes: float64(1), int64(13)\n",
      "memory usage: 547.0 KB\n"
     ]
    }
   ],
   "source": [
    "df.info()"
   ]
  },
  {
   "cell_type": "code",
   "execution_count": 4,
   "id": "9fb0a050-c28c-402e-853e-262aaac870e6",
   "metadata": {},
   "outputs": [
    {
     "data": {
      "text/html": [
       "<div>\n",
       "<style scoped>\n",
       "    .dataframe tbody tr th:only-of-type {\n",
       "        vertical-align: middle;\n",
       "    }\n",
       "\n",
       "    .dataframe tbody tr th {\n",
       "        vertical-align: top;\n",
       "    }\n",
       "\n",
       "    .dataframe thead th {\n",
       "        text-align: right;\n",
       "    }\n",
       "</style>\n",
       "<table border=\"1\" class=\"dataframe\">\n",
       "  <thead>\n",
       "    <tr style=\"text-align: right;\">\n",
       "      <th></th>\n",
       "      <th>ID</th>\n",
       "      <th>Age</th>\n",
       "      <th>Experience</th>\n",
       "      <th>Income</th>\n",
       "      <th>ZIP Code</th>\n",
       "      <th>Family</th>\n",
       "      <th>CCAvg</th>\n",
       "      <th>Education</th>\n",
       "      <th>Mortgage</th>\n",
       "      <th>Personal Loan</th>\n",
       "      <th>Securities Account</th>\n",
       "      <th>CD Account</th>\n",
       "      <th>Online</th>\n",
       "      <th>CreditCard</th>\n",
       "    </tr>\n",
       "  </thead>\n",
       "  <tbody>\n",
       "    <tr>\n",
       "      <th>count</th>\n",
       "      <td>5000.000000</td>\n",
       "      <td>5000.000000</td>\n",
       "      <td>5000.000000</td>\n",
       "      <td>5000.000000</td>\n",
       "      <td>5000.000000</td>\n",
       "      <td>5000.000000</td>\n",
       "      <td>5000.000000</td>\n",
       "      <td>5000.000000</td>\n",
       "      <td>5000.000000</td>\n",
       "      <td>5000.000000</td>\n",
       "      <td>5000.000000</td>\n",
       "      <td>5000.00000</td>\n",
       "      <td>5000.000000</td>\n",
       "      <td>5000.000000</td>\n",
       "    </tr>\n",
       "    <tr>\n",
       "      <th>mean</th>\n",
       "      <td>2500.500000</td>\n",
       "      <td>45.338400</td>\n",
       "      <td>20.104600</td>\n",
       "      <td>73.774200</td>\n",
       "      <td>93152.503000</td>\n",
       "      <td>2.396400</td>\n",
       "      <td>1.937938</td>\n",
       "      <td>1.881000</td>\n",
       "      <td>56.498800</td>\n",
       "      <td>0.096000</td>\n",
       "      <td>0.104400</td>\n",
       "      <td>0.06040</td>\n",
       "      <td>0.596800</td>\n",
       "      <td>0.294000</td>\n",
       "    </tr>\n",
       "    <tr>\n",
       "      <th>std</th>\n",
       "      <td>1443.520003</td>\n",
       "      <td>11.463166</td>\n",
       "      <td>11.467954</td>\n",
       "      <td>46.033729</td>\n",
       "      <td>2121.852197</td>\n",
       "      <td>1.147663</td>\n",
       "      <td>1.747659</td>\n",
       "      <td>0.839869</td>\n",
       "      <td>101.713802</td>\n",
       "      <td>0.294621</td>\n",
       "      <td>0.305809</td>\n",
       "      <td>0.23825</td>\n",
       "      <td>0.490589</td>\n",
       "      <td>0.455637</td>\n",
       "    </tr>\n",
       "    <tr>\n",
       "      <th>min</th>\n",
       "      <td>1.000000</td>\n",
       "      <td>23.000000</td>\n",
       "      <td>-3.000000</td>\n",
       "      <td>8.000000</td>\n",
       "      <td>9307.000000</td>\n",
       "      <td>1.000000</td>\n",
       "      <td>0.000000</td>\n",
       "      <td>1.000000</td>\n",
       "      <td>0.000000</td>\n",
       "      <td>0.000000</td>\n",
       "      <td>0.000000</td>\n",
       "      <td>0.00000</td>\n",
       "      <td>0.000000</td>\n",
       "      <td>0.000000</td>\n",
       "    </tr>\n",
       "    <tr>\n",
       "      <th>25%</th>\n",
       "      <td>1250.750000</td>\n",
       "      <td>35.000000</td>\n",
       "      <td>10.000000</td>\n",
       "      <td>39.000000</td>\n",
       "      <td>91911.000000</td>\n",
       "      <td>1.000000</td>\n",
       "      <td>0.700000</td>\n",
       "      <td>1.000000</td>\n",
       "      <td>0.000000</td>\n",
       "      <td>0.000000</td>\n",
       "      <td>0.000000</td>\n",
       "      <td>0.00000</td>\n",
       "      <td>0.000000</td>\n",
       "      <td>0.000000</td>\n",
       "    </tr>\n",
       "    <tr>\n",
       "      <th>50%</th>\n",
       "      <td>2500.500000</td>\n",
       "      <td>45.000000</td>\n",
       "      <td>20.000000</td>\n",
       "      <td>64.000000</td>\n",
       "      <td>93437.000000</td>\n",
       "      <td>2.000000</td>\n",
       "      <td>1.500000</td>\n",
       "      <td>2.000000</td>\n",
       "      <td>0.000000</td>\n",
       "      <td>0.000000</td>\n",
       "      <td>0.000000</td>\n",
       "      <td>0.00000</td>\n",
       "      <td>1.000000</td>\n",
       "      <td>0.000000</td>\n",
       "    </tr>\n",
       "    <tr>\n",
       "      <th>75%</th>\n",
       "      <td>3750.250000</td>\n",
       "      <td>55.000000</td>\n",
       "      <td>30.000000</td>\n",
       "      <td>98.000000</td>\n",
       "      <td>94608.000000</td>\n",
       "      <td>3.000000</td>\n",
       "      <td>2.500000</td>\n",
       "      <td>3.000000</td>\n",
       "      <td>101.000000</td>\n",
       "      <td>0.000000</td>\n",
       "      <td>0.000000</td>\n",
       "      <td>0.00000</td>\n",
       "      <td>1.000000</td>\n",
       "      <td>1.000000</td>\n",
       "    </tr>\n",
       "    <tr>\n",
       "      <th>max</th>\n",
       "      <td>5000.000000</td>\n",
       "      <td>67.000000</td>\n",
       "      <td>43.000000</td>\n",
       "      <td>224.000000</td>\n",
       "      <td>96651.000000</td>\n",
       "      <td>4.000000</td>\n",
       "      <td>10.000000</td>\n",
       "      <td>3.000000</td>\n",
       "      <td>635.000000</td>\n",
       "      <td>1.000000</td>\n",
       "      <td>1.000000</td>\n",
       "      <td>1.00000</td>\n",
       "      <td>1.000000</td>\n",
       "      <td>1.000000</td>\n",
       "    </tr>\n",
       "  </tbody>\n",
       "</table>\n",
       "</div>"
      ],
      "text/plain": [
       "                ID          Age   Experience       Income      ZIP Code  \\\n",
       "count  5000.000000  5000.000000  5000.000000  5000.000000   5000.000000   \n",
       "mean   2500.500000    45.338400    20.104600    73.774200  93152.503000   \n",
       "std    1443.520003    11.463166    11.467954    46.033729   2121.852197   \n",
       "min       1.000000    23.000000    -3.000000     8.000000   9307.000000   \n",
       "25%    1250.750000    35.000000    10.000000    39.000000  91911.000000   \n",
       "50%    2500.500000    45.000000    20.000000    64.000000  93437.000000   \n",
       "75%    3750.250000    55.000000    30.000000    98.000000  94608.000000   \n",
       "max    5000.000000    67.000000    43.000000   224.000000  96651.000000   \n",
       "\n",
       "            Family        CCAvg    Education     Mortgage  Personal Loan  \\\n",
       "count  5000.000000  5000.000000  5000.000000  5000.000000    5000.000000   \n",
       "mean      2.396400     1.937938     1.881000    56.498800       0.096000   \n",
       "std       1.147663     1.747659     0.839869   101.713802       0.294621   \n",
       "min       1.000000     0.000000     1.000000     0.000000       0.000000   \n",
       "25%       1.000000     0.700000     1.000000     0.000000       0.000000   \n",
       "50%       2.000000     1.500000     2.000000     0.000000       0.000000   \n",
       "75%       3.000000     2.500000     3.000000   101.000000       0.000000   \n",
       "max       4.000000    10.000000     3.000000   635.000000       1.000000   \n",
       "\n",
       "       Securities Account  CD Account       Online   CreditCard  \n",
       "count         5000.000000  5000.00000  5000.000000  5000.000000  \n",
       "mean             0.104400     0.06040     0.596800     0.294000  \n",
       "std              0.305809     0.23825     0.490589     0.455637  \n",
       "min              0.000000     0.00000     0.000000     0.000000  \n",
       "25%              0.000000     0.00000     0.000000     0.000000  \n",
       "50%              0.000000     0.00000     1.000000     0.000000  \n",
       "75%              0.000000     0.00000     1.000000     1.000000  \n",
       "max              1.000000     1.00000     1.000000     1.000000  "
      ]
     },
     "execution_count": 4,
     "metadata": {},
     "output_type": "execute_result"
    }
   ],
   "source": [
    "df.describe()"
   ]
  },
  {
   "cell_type": "markdown",
   "id": "b485542b-e356-44c8-b321-b74dd4fa8236",
   "metadata": {},
   "source": [
    "df.isna().sum()"
   ]
  },
  {
   "cell_type": "code",
   "execution_count": 5,
   "id": "394331f2-4f80-4dce-a55e-55c982cc8b2e",
   "metadata": {},
   "outputs": [
    {
     "data": {
      "text/plain": [
       "0    3530\n",
       "1    1470\n",
       "Name: CreditCard, dtype: int64"
      ]
     },
     "execution_count": 5,
     "metadata": {},
     "output_type": "execute_result"
    }
   ],
   "source": [
    "df.CreditCard.value_counts()"
   ]
  },
  {
   "cell_type": "code",
   "execution_count": 6,
   "id": "04b09ac4-7c39-40e2-a2e4-b115f2a459b3",
   "metadata": {},
   "outputs": [
    {
     "data": {
      "text/plain": [
       "0    4478\n",
       "1     522\n",
       "Name: Securities Account, dtype: int64"
      ]
     },
     "execution_count": 6,
     "metadata": {},
     "output_type": "execute_result"
    }
   ],
   "source": [
    "df['Securities Account'].value_counts()"
   ]
  },
  {
   "cell_type": "markdown",
   "id": "086b2f6d-518d-4393-9f46-4fa2a3862999",
   "metadata": {},
   "source": [
    "## remove unwanted data col"
   ]
  },
  {
   "cell_type": "code",
   "execution_count": 7,
   "id": "2be0f58d-99e9-414e-ab88-7714d7533310",
   "metadata": {},
   "outputs": [],
   "source": [
    "df =df.drop(columns=['ID', 'ZIP Code'])"
   ]
  },
  {
   "cell_type": "markdown",
   "id": "d8d2c6a8-9456-4f2a-a341-38fff19dcad8",
   "metadata": {},
   "source": [
    "## 3 split the data & transform"
   ]
  },
  {
   "cell_type": "code",
   "execution_count": 8,
   "id": "866dfc10-e7a5-442b-b312-e0e57293af1c",
   "metadata": {},
   "outputs": [
    {
     "data": {
      "text/plain": [
       "pandas.core.indexes.base.Index"
      ]
     },
     "execution_count": 8,
     "metadata": {},
     "output_type": "execute_result"
    }
   ],
   "source": [
    "Universal_Col=df.columns\n",
    "type(Universal_Col)"
   ]
  },
  {
   "cell_type": "code",
   "execution_count": 9,
   "id": "e1ca01bc-512e-4bf0-97d7-70524a615adf",
   "metadata": {},
   "outputs": [],
   "source": [
    "predictors=Universal_Col.drop('Securities Account')\n",
    "target='Securities Account'"
   ]
  },
  {
   "cell_type": "code",
   "execution_count": 10,
   "id": "e958ea00-5745-4eec-b4a6-8323640b6d40",
   "metadata": {},
   "outputs": [],
   "source": [
    "X_train,X_test, y_train, y_test=train_test_split(df[predictors], df[target], test_size=0.30, random_state=46)"
   ]
  },
  {
   "cell_type": "code",
   "execution_count": 11,
   "id": "7ad3103f-868b-452e-a0c2-999b5de49f3a",
   "metadata": {},
   "outputs": [],
   "source": [
    "SS = StandardScaler()\n",
    "X_train = SS.fit_transform(X_train)\n",
    "X_test = SS.transform(X_test)"
   ]
  },
  {
   "cell_type": "markdown",
   "id": "a18cc16a-47c0-483a-88b0-2554a8b27662",
   "metadata": {},
   "source": [
    "## 4 train the model with above data"
   ]
  },
  {
   "cell_type": "markdown",
   "id": "787d6570-a7f3-4b7a-b362-a9c929acc2a5",
   "metadata": {},
   "source": [
    "### a. logistic regression grid & random Search"
   ]
  },
  {
   "cell_type": "code",
   "execution_count": 12,
   "id": "8b5a45ce-c9ea-49c7-913b-8324e97e9fc2",
   "metadata": {},
   "outputs": [
    {
     "name": "stdout",
     "output_type": "stream",
     "text": [
      "Fitting 5 folds for each of 36 candidates, totalling 180 fits\n",
      "Fitting 5 folds for each of 10 candidates, totalling 50 fits\n",
      "**************Logistic Grid Search CV********************\n",
      "The best precision score is 0.9199999999999999\n",
      "with parameters: {'C': 0.01, 'penalty': 'l2', 'solver': 'newton-cg'}\n",
      "Best Estimators in grid cv :LogisticRegression(C=0.01, solver='newton-cg')\n",
      "**************Logistic Random Search CV********************\n",
      "The best precision score is 0.9199999999999999\n",
      "with parameters: {'solver': 'newton-cg', 'penalty': 'l2', 'C': 0.01}\n",
      "Best Estimators in grid cv :LogisticRegression(C=0.01, solver='newton-cg')\n",
      "Wall time: 4.55 s\n"
     ]
    }
   ],
   "source": [
    "%%time\n",
    "# parameters for grid & random search Cv for Logistic\n",
    "score_measure = \"precision\"\n",
    "kfolds = 5\n",
    "\n",
    "param = {\n",
    "    'solver'  : ['liblinear','newton-cg', 'lbfgs'],\n",
    "    'penalty' : ['l1','l2'], \n",
    "    'C'       : np.logspace(-2,5,6)\n",
    "}\n",
    "\n",
    "# call Logistic regression \n",
    "LR=LogisticRegression()\n",
    "\n",
    "# grid Search CV call \n",
    "gridCV=GridSearchCV(estimator = LR, param_grid=param, cv=kfolds,\n",
    "                           scoring=score_measure, verbose=1, n_jobs=-1,  # n_jobs=-1 will utilize all available CPUs \n",
    "                           return_train_score=True)\n",
    "gridCV.fit(X_train,np.ravel( y_train))\n",
    "\n",
    "# random Search CV call\n",
    "\n",
    "randomCV=RandomizedSearchCV(estimator =LR, param_distributions=param, cv=kfolds,\n",
    "                           scoring=score_measure, verbose=1, n_jobs=-1,  # n_jobs=-1 will utilize all available CPUs \n",
    "                           return_train_score=True)\n",
    "\n",
    "randomCV.fit(X_train,y_train)\n",
    "\n",
    "print(\"**************Logistic Grid Search CV********************\")\n",
    "print(f\"The best {score_measure} score is {gridCV.best_score_}\")\n",
    "print(f\"with parameters: {gridCV.best_params_}\")\n",
    "\n",
    "print(f\"Best Estimators in grid cv :{gridCV.best_estimator_}\")\n",
    "\n",
    "\n",
    "print(\"**************Logistic Random Search CV********************\")\n",
    "print(f\"The best {score_measure} score is {randomCV.best_score_}\")\n",
    "print(f\"with parameters: {randomCV.best_params_}\")\n",
    "\n",
    "print(f\"Best Estimators in grid cv :{randomCV.best_estimator_}\")\n",
    "\n"
   ]
  },
  {
   "cell_type": "markdown",
   "id": "e405914e-cdfb-456c-a51c-12c023b85481",
   "metadata": {},
   "source": [
    "### b. parameters for grid & random search Cv for SVM"
   ]
  },
  {
   "cell_type": "code",
   "execution_count": 13,
   "id": "9bd274bf-dde0-45f7-b193-d1582a27fc75",
   "metadata": {},
   "outputs": [
    {
     "name": "stdout",
     "output_type": "stream",
     "text": [
      "Fitting 5 folds for each of 144 candidates, totalling 720 fits\n",
      "Fitting 5 folds for each of 144 candidates, totalling 720 fits\n",
      "************** SVM Grid Search CV********************\n",
      "The best precision score is 0.8600000000000001\n",
      "with parameters: {'C': 0.1, 'degree': 2, 'gamma': 0.1, 'kernel': 'rbf'}\n",
      "Best Estimators in grid cv :SVC(C=0.1, degree=2, gamma=0.1, max_iter=25000)\n",
      "**************SVM Random Search CV********************\n",
      "The best precision score is 0.8600000000000001\n",
      "with parameters: {'kernel': 'rbf', 'gamma': 0.1, 'degree': 2, 'C': 0.1}\n",
      "Best Estimators in grid cv :SVC(C=0.1, degree=2, gamma=0.1, max_iter=25000)\n",
      "Wall time: 1min 17s\n"
     ]
    }
   ],
   "source": [
    "%%time\n",
    "score_measure = \"precision\"\n",
    "kfolds = 5\n",
    "\n",
    "param = {\n",
    "     'C': [0.1,1, 10, 100], \n",
    "     'gamma': [1,0.1,0.001,0.0001],\n",
    "    'kernel': ['linear','rbf','poly'],\n",
    "    'degree':[2,3,4],\n",
    "    \n",
    "}\n",
    "\n",
    "# call SVC\n",
    "SVC=SVC(max_iter=25000)\n",
    "\n",
    "# grid Search CV call \n",
    "gridCV=GridSearchCV(estimator = SVC, param_grid=param, cv=kfolds,\n",
    "                           scoring=score_measure, verbose=1, n_jobs=-1,  # n_jobs=-1 will utilize all available CPUs \n",
    "                           return_train_score=True)\n",
    "gridCV.fit(X_train,np.ravel( y_train))\n",
    "\n",
    "# random Search CV call\n",
    "randomCV=RandomizedSearchCV(estimator =SVC, param_distributions=param, cv=kfolds,n_iter=500,\n",
    "                           scoring=score_measure, verbose=1, n_jobs=-1,  # n_jobs=-1 will utilize all available CPUs \n",
    "                           return_train_score=True)\n",
    "randomCV.fit(X_train,y_train)\n",
    "\n",
    "print(\"************** SVM Grid Search CV********************\")\n",
    "print(f\"The best {score_measure} score is {gridCV.best_score_}\")\n",
    "print(f\"with parameters: {gridCV.best_params_}\")\n",
    "\n",
    "print(f\"Best Estimators in grid cv :{gridCV.best_estimator_}\")\n",
    "\n",
    "\n",
    "print(\"**************SVM Random Search CV********************\")\n",
    "print(f\"The best {score_measure} score is {randomCV.best_score_}\")\n",
    "print(f\"with parameters: {randomCV.best_params_}\")\n",
    "\n",
    "print(f\"Best Estimators in grid cv :{randomCV.best_estimator_}\")\n",
    "\n",
    "\n"
   ]
  },
  {
   "cell_type": "markdown",
   "id": "21b6dc3f-542b-488e-9b62-b69782ade8cd",
   "metadata": {},
   "source": [
    "### c.  parameters for grid & random search CV for decision tree"
   ]
  },
  {
   "cell_type": "code",
   "execution_count": 23,
   "id": "c149e71e-6868-4ba4-883f-4bc82915485f",
   "metadata": {},
   "outputs": [
    {
     "name": "stdout",
     "output_type": "stream",
     "text": [
      "Fitting 5 folds for each of 54880 candidates, totalling 274400 fits\n",
      "Fitting 5 folds for each of 500 candidates, totalling 2500 fits\n",
      "************** Decision tree Grid Search CV********************\n",
      "The best precision score is 0.728143274853801\n",
      "with parameters: {'criterion': 'gini', 'max_depth': 8, 'max_leaf_nodes': 13, 'min_impurity_decrease': 0.0001, 'min_samples_leaf': 2, 'min_samples_split': 14}\n",
      "Best Estimators in grid cv :DecisionTreeClassifier(max_depth=8, max_leaf_nodes=13,\n",
      "                       min_impurity_decrease=0.0001, min_samples_leaf=2,\n",
      "                       min_samples_split=14)\n",
      "**************Decision tree Random Search CV********************\n",
      "The best precision score is 0.7145871143375679\n",
      "with parameters: {'min_samples_split': 14, 'min_samples_leaf': 2, 'min_impurity_decrease': 0.0001, 'max_leaf_nodes': 12, 'max_depth': 14, 'criterion': 'gini'}\n",
      "Best Estimators in grid cv :DecisionTreeClassifier(max_depth=14, max_leaf_nodes=12,\n",
      "                       min_impurity_decrease=0.0001, min_samples_leaf=2,\n",
      "                       min_samples_split=14)\n",
      "Wall time: 3min 19s\n"
     ]
    }
   ],
   "source": [
    "%%time\n",
    "\n",
    "score_measure = \"precision\"\n",
    "kfolds = 5\n",
    "\n",
    "param = {\n",
    "    'min_samples_split': np.arange(1,15),  \n",
    "    'min_samples_leaf': np.arange(1,15),\n",
    "    'min_impurity_decrease': np.arange(0.0001, 0.01),\n",
    "    'max_leaf_nodes': np.arange(5, 15), \n",
    "    'max_depth': np.arange(1,15), \n",
    "    'criterion': ['entropy', 'gini'],\n",
    "}\n",
    "# Call DT\n",
    "dt=DecisionTreeClassifier()\n",
    "\n",
    "# grid Search CV call \n",
    "gridCV=GridSearchCV(estimator = dt, param_grid=param, cv=kfolds,\n",
    "                           scoring=score_measure, verbose=1, n_jobs=-1,  # n_jobs=-1 will utilize all available CPUs \n",
    "                           return_train_score=True)\n",
    "gridCV.fit(X_train,np.ravel( y_train))\n",
    "\n",
    "# random Search CV call\n",
    "randomCV=RandomizedSearchCV(estimator =dt, param_distributions=param, cv=kfolds, n_iter=500,\n",
    "                           scoring=score_measure, verbose=1, n_jobs=-1,  # n_jobs=-1 will utilize all available CPUs \n",
    "                           return_train_score=True)\n",
    "randomCV.fit(X_train, y_train)\n",
    "\n",
    "print(\"************** Decision tree Grid Search CV********************\")\n",
    "print(f\"The best {score_measure} score is {gridCV.best_score_}\")\n",
    "print(f\"with parameters: {gridCV.best_params_}\")\n",
    "\n",
    "print(f\"Best Estimators in grid cv :{gridCV.best_estimator_}\")\n",
    "\n",
    "\n",
    "print(\"**************Decision tree Random Search CV********************\")\n",
    "print(f\"The best {score_measure} score is {randomCV.best_score_}\")\n",
    "print(f\"with parameters: {randomCV.best_params_}\")\n",
    "\n",
    "print(f\"Best Estimators in grid cv :{randomCV.best_estimator_}\")\n",
    "\n",
    "\n"
   ]
  },
  {
   "cell_type": "markdown",
   "id": "f5b9c534-44e4-44b9-b19b-e372ae786102",
   "metadata": {},
   "source": [
    "## Analysis\n",
    "- Universal bank dataset we applied different model with different parame ..\n",
    "- model used for Universal Bank  Logistic , SVM (different kernels like liner,poly,rbf), Decision tree. \n",
    "- mainly we focused on precision because precision can dependes on actual value with predicted value.\n",
    "- logistic model got precision value 0.9 in both random & grid search with  'C': 0.01, 'penalty': 'l2','solver':'newton-cg'\n",
    "- SVM model got precision value 0.86 in both random & grid search with C': 0.1, 'degree': 2, 'gamma': 0.1, 'kernel': 'rbf'\n",
    "- decision tree model best precision score .72 @ 'criterion': 'gini', 'max_depth': 8, 'max_leaf_nodes': 13, 'min_impurity_decrease': 0.0001, 'min_samples_leaf': 2,  'min_samples_split': 14 grid search\n",
    "- decision tree precision value .71 @ min_samples_split': 14, 'min_samples_leaf': 2, 'min_impurity_decrease': 0.0001, 'max_leaf_nodes': 12, 'max_depth': 14, 'criterion': 'gini' in random seach \n",
    "- from decision tree best precision @ grid search\n",
    "- from all above model logistic has best precision value.\n",
    "- Based on Logistic model we can deploy and predict. Cilent will get good returns if they used this model."
   ]
  }
 ],
 "metadata": {
  "kernelspec": {
   "display_name": "Python 3 (ipykernel)",
   "language": "python",
   "name": "python3"
  },
  "language_info": {
   "codemirror_mode": {
    "name": "ipython",
    "version": 3
   },
   "file_extension": ".py",
   "mimetype": "text/x-python",
   "name": "python",
   "nbconvert_exporter": "python",
   "pygments_lexer": "ipython3",
   "version": "3.9.13"
  }
 },
 "nbformat": 4,
 "nbformat_minor": 5
}
