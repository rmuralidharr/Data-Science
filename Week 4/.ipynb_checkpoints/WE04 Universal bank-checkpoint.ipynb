{
 "cells": [
  {
   "cell_type": "markdown",
   "id": "f1068dbf-0a89-47dd-ba6e-2234bf8c5d17",
   "metadata": {},
   "source": [
    "# Assignment 4  Universal bank\n",
    "Meghanjali Chennupati (U30308400)"
   ]
  },
  {
   "cell_type": "markdown",
   "id": "124db011-d919-4b97-8852-78b6daf7429e",
   "metadata": {},
   "source": [
    "# Import and install all the necessary libraries"
   ]
  },
  {
   "cell_type": "code",
   "execution_count": 110,
   "id": "b3aba3b0-87a3-4366-8b66-5b578ff6dca8",
   "metadata": {},
   "outputs": [],
   "source": [
    "import numpy as np\n",
    "import pandas as pd\n",
    "from sklearn.linear_model import LogisticRegression\n",
    "from sklearn.svm import SVC\n",
    "from sklearn.tree import DecisionTreeClassifier \n",
    "from sklearn.preprocessing import LabelEncoder\n",
    "from sklearn.model_selection import train_test_split\n",
    "from sklearn import preprocessing\n",
    "from sklearn.impute import SimpleImputer\n",
    "from sklearn.metrics import confusion_matrix\n",
    "import summarytools\n",
    "from summarytools import dfSummary\n",
    "from sklearn.preprocessing import StandardScaler\n",
    "from sklearn.model_selection import GridSearchCV,RandomizedSearchCV\n",
    "from yellowbrick.model_selection import FeatureImportances\n",
    "import warnings\n",
    "warnings.filterwarnings(\"ignore\")"
   ]
  },
  {
   "cell_type": "code",
   "execution_count": 41,
   "id": "d7d0954d-3f91-4f65-860d-ba64f284e72a",
   "metadata": {},
   "outputs": [
    {
     "name": "stdout",
     "output_type": "stream",
     "text": [
      "Collecting yellowbrick\n",
      "  Downloading yellowbrick-1.5-py3-none-any.whl (282 kB)\n",
      "     -------------------------------------- 282.6/282.6 kB 1.9 MB/s eta 0:00:00\n",
      "Requirement already satisfied: scikit-learn>=1.0.0 in c:\\users\\meghanjali\\anaconda3\\lib\\site-packages (from yellowbrick) (1.2.1)\n",
      "Requirement already satisfied: cycler>=0.10.0 in c:\\users\\meghanjali\\anaconda3\\lib\\site-packages (from yellowbrick) (0.11.0)\n",
      "Requirement already satisfied: scipy>=1.0.0 in c:\\users\\meghanjali\\anaconda3\\lib\\site-packages (from yellowbrick) (1.10.0)\n",
      "Requirement already satisfied: numpy>=1.16.0 in c:\\users\\meghanjali\\anaconda3\\lib\\site-packages (from yellowbrick) (1.23.5)\n",
      "Requirement already satisfied: matplotlib!=3.0.0,>=2.0.2 in c:\\users\\meghanjali\\anaconda3\\lib\\site-packages (from yellowbrick) (3.6.2)\n",
      "Requirement already satisfied: packaging>=20.0 in c:\\users\\meghanjali\\anaconda3\\lib\\site-packages (from matplotlib!=3.0.0,>=2.0.2->yellowbrick) (22.0)\n",
      "Requirement already satisfied: contourpy>=1.0.1 in c:\\users\\meghanjali\\anaconda3\\lib\\site-packages (from matplotlib!=3.0.0,>=2.0.2->yellowbrick) (1.0.5)\n",
      "Requirement already satisfied: kiwisolver>=1.0.1 in c:\\users\\meghanjali\\anaconda3\\lib\\site-packages (from matplotlib!=3.0.0,>=2.0.2->yellowbrick) (1.4.4)\n",
      "Requirement already satisfied: python-dateutil>=2.7 in c:\\users\\meghanjali\\anaconda3\\lib\\site-packages (from matplotlib!=3.0.0,>=2.0.2->yellowbrick) (2.8.2)\n",
      "Requirement already satisfied: fonttools>=4.22.0 in c:\\users\\meghanjali\\anaconda3\\lib\\site-packages (from matplotlib!=3.0.0,>=2.0.2->yellowbrick) (4.25.0)\n",
      "Requirement already satisfied: pillow>=6.2.0 in c:\\users\\meghanjali\\anaconda3\\lib\\site-packages (from matplotlib!=3.0.0,>=2.0.2->yellowbrick) (9.3.0)\n",
      "Requirement already satisfied: pyparsing>=2.2.1 in c:\\users\\meghanjali\\anaconda3\\lib\\site-packages (from matplotlib!=3.0.0,>=2.0.2->yellowbrick) (3.0.9)\n",
      "Requirement already satisfied: threadpoolctl>=2.0.0 in c:\\users\\meghanjali\\anaconda3\\lib\\site-packages (from scikit-learn>=1.0.0->yellowbrick) (2.2.0)\n",
      "Requirement already satisfied: joblib>=1.1.1 in c:\\users\\meghanjali\\anaconda3\\lib\\site-packages (from scikit-learn>=1.0.0->yellowbrick) (1.1.1)\n",
      "Requirement already satisfied: six>=1.5 in c:\\users\\meghanjali\\anaconda3\\lib\\site-packages (from python-dateutil>=2.7->matplotlib!=3.0.0,>=2.0.2->yellowbrick) (1.16.0)\n",
      "Installing collected packages: yellowbrick\n",
      "Successfully installed yellowbrick-1.5\n"
     ]
    }
   ],
   "source": [
    "! pip install yellowbrick"
   ]
  },
  {
   "cell_type": "code",
   "execution_count": 111,
   "id": "fead4207-5258-4ba1-81ed-7efbc8b7efc7",
   "metadata": {},
   "outputs": [],
   "source": [
    "# set random seed to ensure that results are repeatable\n",
    "np.random.seed(1)"
   ]
  },
  {
   "cell_type": "markdown",
   "id": "41559f40-392a-4f77-9a5b-0d71f220fe4f",
   "metadata": {},
   "source": [
    "# Load the data"
   ]
  },
  {
   "cell_type": "code",
   "execution_count": 112,
   "id": "746fef8a-9352-4355-adb8-93a32306f2e1",
   "metadata": {},
   "outputs": [],
   "source": [
    "u_bank_df=pd.read_csv(\"UniversalBank.csv\")"
   ]
  },
  {
   "cell_type": "code",
   "execution_count": 113,
   "id": "deef820a-2559-4568-9582-28fc9c6de8ef",
   "metadata": {},
   "outputs": [
    {
     "data": {
      "text/html": [
       "<div>\n",
       "<style scoped>\n",
       "    .dataframe tbody tr th:only-of-type {\n",
       "        vertical-align: middle;\n",
       "    }\n",
       "\n",
       "    .dataframe tbody tr th {\n",
       "        vertical-align: top;\n",
       "    }\n",
       "\n",
       "    .dataframe thead th {\n",
       "        text-align: right;\n",
       "    }\n",
       "</style>\n",
       "<table border=\"1\" class=\"dataframe\">\n",
       "  <thead>\n",
       "    <tr style=\"text-align: right;\">\n",
       "      <th></th>\n",
       "      <th>ID</th>\n",
       "      <th>Age</th>\n",
       "      <th>Experience</th>\n",
       "      <th>Income</th>\n",
       "      <th>ZIP Code</th>\n",
       "      <th>Family</th>\n",
       "      <th>CCAvg</th>\n",
       "      <th>Education</th>\n",
       "      <th>Mortgage</th>\n",
       "      <th>Personal Loan</th>\n",
       "      <th>Securities Account</th>\n",
       "      <th>CD Account</th>\n",
       "      <th>Online</th>\n",
       "      <th>CreditCard</th>\n",
       "    </tr>\n",
       "  </thead>\n",
       "  <tbody>\n",
       "    <tr>\n",
       "      <th>0</th>\n",
       "      <td>1</td>\n",
       "      <td>25</td>\n",
       "      <td>1</td>\n",
       "      <td>49</td>\n",
       "      <td>91107</td>\n",
       "      <td>4</td>\n",
       "      <td>1.6</td>\n",
       "      <td>1</td>\n",
       "      <td>0</td>\n",
       "      <td>0</td>\n",
       "      <td>1</td>\n",
       "      <td>0</td>\n",
       "      <td>0</td>\n",
       "      <td>0</td>\n",
       "    </tr>\n",
       "    <tr>\n",
       "      <th>1</th>\n",
       "      <td>2</td>\n",
       "      <td>45</td>\n",
       "      <td>19</td>\n",
       "      <td>34</td>\n",
       "      <td>90089</td>\n",
       "      <td>3</td>\n",
       "      <td>1.5</td>\n",
       "      <td>1</td>\n",
       "      <td>0</td>\n",
       "      <td>0</td>\n",
       "      <td>1</td>\n",
       "      <td>0</td>\n",
       "      <td>0</td>\n",
       "      <td>0</td>\n",
       "    </tr>\n",
       "    <tr>\n",
       "      <th>2</th>\n",
       "      <td>3</td>\n",
       "      <td>39</td>\n",
       "      <td>15</td>\n",
       "      <td>11</td>\n",
       "      <td>94720</td>\n",
       "      <td>1</td>\n",
       "      <td>1.0</td>\n",
       "      <td>1</td>\n",
       "      <td>0</td>\n",
       "      <td>0</td>\n",
       "      <td>0</td>\n",
       "      <td>0</td>\n",
       "      <td>0</td>\n",
       "      <td>0</td>\n",
       "    </tr>\n",
       "    <tr>\n",
       "      <th>3</th>\n",
       "      <td>4</td>\n",
       "      <td>35</td>\n",
       "      <td>9</td>\n",
       "      <td>100</td>\n",
       "      <td>94112</td>\n",
       "      <td>1</td>\n",
       "      <td>2.7</td>\n",
       "      <td>2</td>\n",
       "      <td>0</td>\n",
       "      <td>0</td>\n",
       "      <td>0</td>\n",
       "      <td>0</td>\n",
       "      <td>0</td>\n",
       "      <td>0</td>\n",
       "    </tr>\n",
       "    <tr>\n",
       "      <th>4</th>\n",
       "      <td>5</td>\n",
       "      <td>35</td>\n",
       "      <td>8</td>\n",
       "      <td>45</td>\n",
       "      <td>91330</td>\n",
       "      <td>4</td>\n",
       "      <td>1.0</td>\n",
       "      <td>2</td>\n",
       "      <td>0</td>\n",
       "      <td>0</td>\n",
       "      <td>0</td>\n",
       "      <td>0</td>\n",
       "      <td>0</td>\n",
       "      <td>1</td>\n",
       "    </tr>\n",
       "  </tbody>\n",
       "</table>\n",
       "</div>"
      ],
      "text/plain": [
       "   ID  Age  Experience  Income  ZIP Code  Family  CCAvg  Education  Mortgage  \\\n",
       "0   1   25           1      49     91107       4    1.6          1         0   \n",
       "1   2   45          19      34     90089       3    1.5          1         0   \n",
       "2   3   39          15      11     94720       1    1.0          1         0   \n",
       "3   4   35           9     100     94112       1    2.7          2         0   \n",
       "4   5   35           8      45     91330       4    1.0          2         0   \n",
       "\n",
       "   Personal Loan  Securities Account  CD Account  Online  CreditCard  \n",
       "0              0                   1           0       0           0  \n",
       "1              0                   1           0       0           0  \n",
       "2              0                   0           0       0           0  \n",
       "3              0                   0           0       0           0  \n",
       "4              0                   0           0       0           1  "
      ]
     },
     "execution_count": 113,
     "metadata": {},
     "output_type": "execute_result"
    }
   ],
   "source": [
    "u_bank_df.head(5)"
   ]
  },
  {
   "cell_type": "markdown",
   "id": "c2d3b6b0-d6f1-45ae-811c-e638221e93cb",
   "metadata": {},
   "source": [
    "# Conduct the intial exploration on the data"
   ]
  },
  {
   "cell_type": "code",
   "execution_count": 114,
   "id": "0d95c90b-99d4-4b49-bd10-4cd3574df2bb",
   "metadata": {},
   "outputs": [
    {
     "name": "stdout",
     "output_type": "stream",
     "text": [
      "<class 'pandas.core.frame.DataFrame'>\n",
      "RangeIndex: 5000 entries, 0 to 4999\n",
      "Data columns (total 14 columns):\n",
      " #   Column              Non-Null Count  Dtype  \n",
      "---  ------              --------------  -----  \n",
      " 0   ID                  5000 non-null   int64  \n",
      " 1   Age                 5000 non-null   int64  \n",
      " 2   Experience          5000 non-null   int64  \n",
      " 3   Income              5000 non-null   int64  \n",
      " 4   ZIP Code            5000 non-null   int64  \n",
      " 5   Family              5000 non-null   int64  \n",
      " 6   CCAvg               5000 non-null   float64\n",
      " 7   Education           5000 non-null   int64  \n",
      " 8   Mortgage            5000 non-null   int64  \n",
      " 9   Personal Loan       5000 non-null   int64  \n",
      " 10  Securities Account  5000 non-null   int64  \n",
      " 11  CD Account          5000 non-null   int64  \n",
      " 12  Online              5000 non-null   int64  \n",
      " 13  CreditCard          5000 non-null   int64  \n",
      "dtypes: float64(1), int64(13)\n",
      "memory usage: 547.0 KB\n"
     ]
    }
   ],
   "source": [
    "# generate a basic summary of the data\n",
    "u_bank_df.info()"
   ]
  },
  {
   "cell_type": "code",
   "execution_count": 115,
   "id": "e82580dc-c332-40d1-9e37-d40675241b0a",
   "metadata": {},
   "outputs": [
    {
     "data": {
      "text/plain": [
       "(5000, 14)"
      ]
     },
     "execution_count": 115,
     "metadata": {},
     "output_type": "execute_result"
    }
   ],
   "source": [
    "u_bank_df.shape"
   ]
  },
  {
   "cell_type": "code",
   "execution_count": 116,
   "id": "12f82d1f-aa6c-4132-814a-805b8096b05e",
   "metadata": {},
   "outputs": [
    {
     "data": {
      "text/html": [
       "<div>\n",
       "<style scoped>\n",
       "    .dataframe tbody tr th:only-of-type {\n",
       "        vertical-align: middle;\n",
       "    }\n",
       "\n",
       "    .dataframe tbody tr th {\n",
       "        vertical-align: top;\n",
       "    }\n",
       "\n",
       "    .dataframe thead th {\n",
       "        text-align: right;\n",
       "    }\n",
       "</style>\n",
       "<table border=\"1\" class=\"dataframe\">\n",
       "  <thead>\n",
       "    <tr style=\"text-align: right;\">\n",
       "      <th></th>\n",
       "      <th>ID</th>\n",
       "      <th>Age</th>\n",
       "      <th>Experience</th>\n",
       "      <th>Income</th>\n",
       "      <th>ZIP Code</th>\n",
       "      <th>Family</th>\n",
       "      <th>CCAvg</th>\n",
       "      <th>Education</th>\n",
       "      <th>Mortgage</th>\n",
       "      <th>Personal Loan</th>\n",
       "      <th>Securities Account</th>\n",
       "      <th>CD Account</th>\n",
       "      <th>Online</th>\n",
       "      <th>CreditCard</th>\n",
       "    </tr>\n",
       "  </thead>\n",
       "  <tbody>\n",
       "    <tr>\n",
       "      <th>count</th>\n",
       "      <td>5000.000000</td>\n",
       "      <td>5000.000000</td>\n",
       "      <td>5000.000000</td>\n",
       "      <td>5000.000000</td>\n",
       "      <td>5000.000000</td>\n",
       "      <td>5000.000000</td>\n",
       "      <td>5000.000000</td>\n",
       "      <td>5000.000000</td>\n",
       "      <td>5000.000000</td>\n",
       "      <td>5000.000000</td>\n",
       "      <td>5000.000000</td>\n",
       "      <td>5000.00000</td>\n",
       "      <td>5000.000000</td>\n",
       "      <td>5000.000000</td>\n",
       "    </tr>\n",
       "    <tr>\n",
       "      <th>mean</th>\n",
       "      <td>2500.500000</td>\n",
       "      <td>45.338400</td>\n",
       "      <td>20.104600</td>\n",
       "      <td>73.774200</td>\n",
       "      <td>93152.503000</td>\n",
       "      <td>2.396400</td>\n",
       "      <td>1.937938</td>\n",
       "      <td>1.881000</td>\n",
       "      <td>56.498800</td>\n",
       "      <td>0.096000</td>\n",
       "      <td>0.104400</td>\n",
       "      <td>0.06040</td>\n",
       "      <td>0.596800</td>\n",
       "      <td>0.294000</td>\n",
       "    </tr>\n",
       "    <tr>\n",
       "      <th>std</th>\n",
       "      <td>1443.520003</td>\n",
       "      <td>11.463166</td>\n",
       "      <td>11.467954</td>\n",
       "      <td>46.033729</td>\n",
       "      <td>2121.852197</td>\n",
       "      <td>1.147663</td>\n",
       "      <td>1.747659</td>\n",
       "      <td>0.839869</td>\n",
       "      <td>101.713802</td>\n",
       "      <td>0.294621</td>\n",
       "      <td>0.305809</td>\n",
       "      <td>0.23825</td>\n",
       "      <td>0.490589</td>\n",
       "      <td>0.455637</td>\n",
       "    </tr>\n",
       "    <tr>\n",
       "      <th>min</th>\n",
       "      <td>1.000000</td>\n",
       "      <td>23.000000</td>\n",
       "      <td>-3.000000</td>\n",
       "      <td>8.000000</td>\n",
       "      <td>9307.000000</td>\n",
       "      <td>1.000000</td>\n",
       "      <td>0.000000</td>\n",
       "      <td>1.000000</td>\n",
       "      <td>0.000000</td>\n",
       "      <td>0.000000</td>\n",
       "      <td>0.000000</td>\n",
       "      <td>0.00000</td>\n",
       "      <td>0.000000</td>\n",
       "      <td>0.000000</td>\n",
       "    </tr>\n",
       "    <tr>\n",
       "      <th>25%</th>\n",
       "      <td>1250.750000</td>\n",
       "      <td>35.000000</td>\n",
       "      <td>10.000000</td>\n",
       "      <td>39.000000</td>\n",
       "      <td>91911.000000</td>\n",
       "      <td>1.000000</td>\n",
       "      <td>0.700000</td>\n",
       "      <td>1.000000</td>\n",
       "      <td>0.000000</td>\n",
       "      <td>0.000000</td>\n",
       "      <td>0.000000</td>\n",
       "      <td>0.00000</td>\n",
       "      <td>0.000000</td>\n",
       "      <td>0.000000</td>\n",
       "    </tr>\n",
       "    <tr>\n",
       "      <th>50%</th>\n",
       "      <td>2500.500000</td>\n",
       "      <td>45.000000</td>\n",
       "      <td>20.000000</td>\n",
       "      <td>64.000000</td>\n",
       "      <td>93437.000000</td>\n",
       "      <td>2.000000</td>\n",
       "      <td>1.500000</td>\n",
       "      <td>2.000000</td>\n",
       "      <td>0.000000</td>\n",
       "      <td>0.000000</td>\n",
       "      <td>0.000000</td>\n",
       "      <td>0.00000</td>\n",
       "      <td>1.000000</td>\n",
       "      <td>0.000000</td>\n",
       "    </tr>\n",
       "    <tr>\n",
       "      <th>75%</th>\n",
       "      <td>3750.250000</td>\n",
       "      <td>55.000000</td>\n",
       "      <td>30.000000</td>\n",
       "      <td>98.000000</td>\n",
       "      <td>94608.000000</td>\n",
       "      <td>3.000000</td>\n",
       "      <td>2.500000</td>\n",
       "      <td>3.000000</td>\n",
       "      <td>101.000000</td>\n",
       "      <td>0.000000</td>\n",
       "      <td>0.000000</td>\n",
       "      <td>0.00000</td>\n",
       "      <td>1.000000</td>\n",
       "      <td>1.000000</td>\n",
       "    </tr>\n",
       "    <tr>\n",
       "      <th>max</th>\n",
       "      <td>5000.000000</td>\n",
       "      <td>67.000000</td>\n",
       "      <td>43.000000</td>\n",
       "      <td>224.000000</td>\n",
       "      <td>96651.000000</td>\n",
       "      <td>4.000000</td>\n",
       "      <td>10.000000</td>\n",
       "      <td>3.000000</td>\n",
       "      <td>635.000000</td>\n",
       "      <td>1.000000</td>\n",
       "      <td>1.000000</td>\n",
       "      <td>1.00000</td>\n",
       "      <td>1.000000</td>\n",
       "      <td>1.000000</td>\n",
       "    </tr>\n",
       "  </tbody>\n",
       "</table>\n",
       "</div>"
      ],
      "text/plain": [
       "                ID          Age   Experience       Income      ZIP Code  \\\n",
       "count  5000.000000  5000.000000  5000.000000  5000.000000   5000.000000   \n",
       "mean   2500.500000    45.338400    20.104600    73.774200  93152.503000   \n",
       "std    1443.520003    11.463166    11.467954    46.033729   2121.852197   \n",
       "min       1.000000    23.000000    -3.000000     8.000000   9307.000000   \n",
       "25%    1250.750000    35.000000    10.000000    39.000000  91911.000000   \n",
       "50%    2500.500000    45.000000    20.000000    64.000000  93437.000000   \n",
       "75%    3750.250000    55.000000    30.000000    98.000000  94608.000000   \n",
       "max    5000.000000    67.000000    43.000000   224.000000  96651.000000   \n",
       "\n",
       "            Family        CCAvg    Education     Mortgage  Personal Loan  \\\n",
       "count  5000.000000  5000.000000  5000.000000  5000.000000    5000.000000   \n",
       "mean      2.396400     1.937938     1.881000    56.498800       0.096000   \n",
       "std       1.147663     1.747659     0.839869   101.713802       0.294621   \n",
       "min       1.000000     0.000000     1.000000     0.000000       0.000000   \n",
       "25%       1.000000     0.700000     1.000000     0.000000       0.000000   \n",
       "50%       2.000000     1.500000     2.000000     0.000000       0.000000   \n",
       "75%       3.000000     2.500000     3.000000   101.000000       0.000000   \n",
       "max       4.000000    10.000000     3.000000   635.000000       1.000000   \n",
       "\n",
       "       Securities Account  CD Account       Online   CreditCard  \n",
       "count         5000.000000  5000.00000  5000.000000  5000.000000  \n",
       "mean             0.104400     0.06040     0.596800     0.294000  \n",
       "std              0.305809     0.23825     0.490589     0.455637  \n",
       "min              0.000000     0.00000     0.000000     0.000000  \n",
       "25%              0.000000     0.00000     0.000000     0.000000  \n",
       "50%              0.000000     0.00000     1.000000     0.000000  \n",
       "75%              0.000000     0.00000     1.000000     1.000000  \n",
       "max              1.000000     1.00000     1.000000     1.000000  "
      ]
     },
     "execution_count": 116,
     "metadata": {},
     "output_type": "execute_result"
    }
   ],
   "source": [
    "# generate a statistical summary of the numeric value in the data\n",
    "u_bank_df.describe()"
   ]
  },
  {
   "cell_type": "code",
   "execution_count": 117,
   "id": "485d7575-bf66-47d4-bd96-1d483aa3401e",
   "metadata": {},
   "outputs": [
    {
     "data": {
      "text/plain": [
       "ID                    0\n",
       "Age                   0\n",
       "Experience            0\n",
       "Income                0\n",
       "ZIP Code              0\n",
       "Family                0\n",
       "CCAvg                 0\n",
       "Education             0\n",
       "Mortgage              0\n",
       "Personal Loan         0\n",
       "Securities Account    0\n",
       "CD Account            0\n",
       "Online                0\n",
       "CreditCard            0\n",
       "dtype: int64"
      ]
     },
     "execution_count": 117,
     "metadata": {},
     "output_type": "execute_result"
    }
   ],
   "source": [
    "# Check the missing values by summing the total na's for each variable\n",
    "u_bank_df.isna().sum()"
   ]
  },
  {
   "cell_type": "code",
   "execution_count": 118,
   "id": "465402c3-96b7-487b-9387-756a3dcd9e6a",
   "metadata": {},
   "outputs": [
    {
     "data": {
      "text/html": [
       "<style type=\"text/css\">\n",
       "#T_51fa4 thead>tr>th {\n",
       "  text-align: left;\n",
       "}\n",
       "#T_51fa4_row0_col0, #T_51fa4_row1_col0, #T_51fa4_row2_col0, #T_51fa4_row3_col0, #T_51fa4_row4_col0, #T_51fa4_row5_col0, #T_51fa4_row6_col0, #T_51fa4_row7_col0, #T_51fa4_row8_col0, #T_51fa4_row9_col0, #T_51fa4_row10_col0, #T_51fa4_row11_col0, #T_51fa4_row12_col0, #T_51fa4_row13_col0 {\n",
       "  text-align: left;\n",
       "  font-size: 12px;\n",
       "  vertical-align: middle;\n",
       "  width: 5%;\n",
       "  max-width: 50px;\n",
       "  min-width: 20px;\n",
       "}\n",
       "#T_51fa4_row0_col1, #T_51fa4_row1_col1, #T_51fa4_row2_col1, #T_51fa4_row3_col1, #T_51fa4_row4_col1, #T_51fa4_row5_col1, #T_51fa4_row6_col1, #T_51fa4_row7_col1, #T_51fa4_row8_col1, #T_51fa4_row9_col1, #T_51fa4_row10_col1, #T_51fa4_row11_col1, #T_51fa4_row12_col1, #T_51fa4_row13_col1 {\n",
       "  text-align: left;\n",
       "  font-size: 12px;\n",
       "  vertical-align: middle;\n",
       "  width: 15%;\n",
       "  max-width: 200px;\n",
       "  min-width: 100px;\n",
       "  word-break: break-word;\n",
       "}\n",
       "#T_51fa4_row0_col2, #T_51fa4_row1_col2, #T_51fa4_row2_col2, #T_51fa4_row3_col2, #T_51fa4_row4_col2, #T_51fa4_row5_col2, #T_51fa4_row6_col2, #T_51fa4_row7_col2, #T_51fa4_row8_col2, #T_51fa4_row9_col2, #T_51fa4_row10_col2, #T_51fa4_row11_col2, #T_51fa4_row12_col2, #T_51fa4_row13_col2 {\n",
       "  text-align: left;\n",
       "  font-size: 12px;\n",
       "  vertical-align: middle;\n",
       "  width: 30%;\n",
       "  min-width: 100px;\n",
       "}\n",
       "#T_51fa4_row0_col3, #T_51fa4_row1_col3, #T_51fa4_row2_col3, #T_51fa4_row3_col3, #T_51fa4_row4_col3, #T_51fa4_row5_col3, #T_51fa4_row6_col3, #T_51fa4_row7_col3, #T_51fa4_row8_col3, #T_51fa4_row9_col3, #T_51fa4_row10_col3, #T_51fa4_row11_col3, #T_51fa4_row12_col3, #T_51fa4_row13_col3 {\n",
       "  text-align: left;\n",
       "  font-size: 12px;\n",
       "  vertical-align: middle;\n",
       "  width: 25%;\n",
       "  min-width: 100px;\n",
       "}\n",
       "#T_51fa4_row0_col4, #T_51fa4_row1_col4, #T_51fa4_row2_col4, #T_51fa4_row3_col4, #T_51fa4_row4_col4, #T_51fa4_row5_col4, #T_51fa4_row6_col4, #T_51fa4_row7_col4, #T_51fa4_row8_col4, #T_51fa4_row9_col4, #T_51fa4_row10_col4, #T_51fa4_row11_col4, #T_51fa4_row12_col4, #T_51fa4_row13_col4 {\n",
       "  text-align: left;\n",
       "  font-size: 12px;\n",
       "  vertical-align: middle;\n",
       "  width: 20%;\n",
       "  min-width: 150px;\n",
       "}\n",
       "#T_51fa4_row0_col5, #T_51fa4_row1_col5, #T_51fa4_row2_col5, #T_51fa4_row3_col5, #T_51fa4_row4_col5, #T_51fa4_row5_col5, #T_51fa4_row6_col5, #T_51fa4_row7_col5, #T_51fa4_row8_col5, #T_51fa4_row9_col5, #T_51fa4_row10_col5, #T_51fa4_row11_col5, #T_51fa4_row12_col5, #T_51fa4_row13_col5 {\n",
       "  text-align: left;\n",
       "  font-size: 12px;\n",
       "  vertical-align: middle;\n",
       "  width: 10%;\n",
       "}\n",
       "</style>\n",
       "<table id=\"T_51fa4\">\n",
       "  <caption><strong>Data Frame Summary</strong><br>u_bank_df<br>Dimensions: 5,000 x 14<br>Duplicates: 0</caption>\n",
       "  <thead>\n",
       "    <tr>\n",
       "      <th id=\"T_51fa4_level0_col0\" class=\"col_heading level0 col0\" >No</th>\n",
       "      <th id=\"T_51fa4_level0_col1\" class=\"col_heading level0 col1\" >Variable</th>\n",
       "      <th id=\"T_51fa4_level0_col2\" class=\"col_heading level0 col2\" >Stats / Values</th>\n",
       "      <th id=\"T_51fa4_level0_col3\" class=\"col_heading level0 col3\" >Freqs / (% of Valid)</th>\n",
       "      <th id=\"T_51fa4_level0_col4\" class=\"col_heading level0 col4\" >Graph</th>\n",
       "      <th id=\"T_51fa4_level0_col5\" class=\"col_heading level0 col5\" >Missing</th>\n",
       "    </tr>\n",
       "  </thead>\n",
       "  <tbody>\n",
       "    <tr>\n",
       "      <td id=\"T_51fa4_row0_col0\" class=\"data row0 col0\" >1</td>\n",
       "      <td id=\"T_51fa4_row0_col1\" class=\"data row0 col1\" ><strong>ID</strong><br>[int64]</td>\n",
       "      <td id=\"T_51fa4_row0_col2\" class=\"data row0 col2\" >Mean (sd) : 2500.5 (1443.5)<br>min < med < max:<br>1.0 < 2500.5 < 5000.0<br>IQR (CV) : 2499.5 (1.7)</td>\n",
       "      <td id=\"T_51fa4_row0_col3\" class=\"data row0 col3\" >5,000 distinct values</td>\n",
       "      <td id=\"T_51fa4_row0_col4\" class=\"data row0 col4\" ><img src = \"data:image/png;base64, iVBORw0KGgoAAAANSUhEUgAAAKQAAABACAYAAACUYNzVAAAAOXRFWHRTb2Z0d2FyZQBNYXRwbG90bGliIHZlcnNpb24zLjYuMiwgaHR0cHM6Ly9tYXRwbG90bGliLm9yZy8o6BhiAAAACXBIWXMAAA9hAAAPYQGoP6dpAAABUklEQVR4nO3WsUrDUBTH4ZPSC1ahAae8lmOfsKMP1aWL1Eilm3FxyNBW2sU/8n1LhsO5N8OPkG6apoIUi79+AZhbXhp0XbeoqvWd53Y/z3s+v3b/925V1cc0TV/nBheDrKr1ZrN56fv+dOttu93uubXWDcPwZtfu3DiOq+12+1pV7+fm14Ksvu9PwzB83nrp4XB4bK2VXbu38g9JFEESRZBEESRRBEkUQRJFkEQRJFEESRRBEkWQRBEkUQRJFEESRZBEESRRBEkUQRJFkEQRJFEESRRBEkWQRBEkUQRJFEESRZBEESRRBEkUQRJFkEQRJFEESRRBEkWQRBEkUQRJFEESRZBEESRRBEkUQRJFkEQRJFEESRRBEkWQRBEkUQRJFEESRZBEESRRBEkUQRJFkEQRJFEESRRBEmV5bTiO4+qeQ4/H40Nrrdvv90927c791tQ3ucefRh4PyjAAAAAASUVORK5CYII=\"></img></td>\n",
       "      <td id=\"T_51fa4_row0_col5\" class=\"data row0 col5\" >0<br>(0.0%)</td>\n",
       "    </tr>\n",
       "    <tr>\n",
       "      <td id=\"T_51fa4_row1_col0\" class=\"data row1 col0\" >2</td>\n",
       "      <td id=\"T_51fa4_row1_col1\" class=\"data row1 col1\" ><strong>Age</strong><br>[int64]</td>\n",
       "      <td id=\"T_51fa4_row1_col2\" class=\"data row1 col2\" >Mean (sd) : 45.3 (11.5)<br>min < med < max:<br>23.0 < 45.0 < 67.0<br>IQR (CV) : 20.0 (4.0)</td>\n",
       "      <td id=\"T_51fa4_row1_col3\" class=\"data row1 col3\" >45 distinct values</td>\n",
       "      <td id=\"T_51fa4_row1_col4\" class=\"data row1 col4\" ><img src = \"data:image/png;base64, iVBORw0KGgoAAAANSUhEUgAAAKQAAABACAYAAACUYNzVAAAAOXRFWHRTb2Z0d2FyZQBNYXRwbG90bGliIHZlcnNpb24zLjYuMiwgaHR0cHM6Ly9tYXRwbG90bGliLm9yZy8o6BhiAAAACXBIWXMAAA9hAAAPYQGoP6dpAAAB30lEQVR4nO3bMU/CQBiH8feIJKKES5z6oRzqyCdk9EOxsBhsU8GF1sVEFpFe77x/y/PbCzc8vb5tWtd1nQEqZrkXAJy7y70AhHPOzcxsNeAn6q7r2ljriYEgx221Xq9fvPfHvgdWVbXYbDavZvYef1nhCHLkvPfHoig+cq8jFmZISJHbIac4F+F6ckHaBOciXE8xyMnNRbieZJBjw5gRD0HGwZgRCUFGwpgRB499IIUgIYUgIYUZ8tvAO2Xftq2LuZ5bRZA/gu+Ut9vt0+Fw+DSzpu+xp9PJmZl3LqjnyZ0IBHkm9E55v98/hP5nXdeLsiyfi6J463vskBNBFUEKWC6X/34iDNyZzRI9zE8SJPOYviE7c8qH+al2SOaxEQjdmVNKdslmHkOIyc2QOeYxxMODcUghSEghSEghSEghSEghSEghSEghSEghSEghSEghSEghSEghSEiZ3Ns+SC/l2+YEid5Svm1OkAiS6m3zX4PkuxjkcGmHzPJdDG7bxUt2ju9icNt47AMpBAkpBAkpBAkpBAkpBAkpBAkpBAkpBAkpBAkpBAkpBAkpBAkpBAkpBAkpBAkpBAkpBAkpBAkpBAkpBAkpF786rKpqEfKjTdPcz+dzt9vtHjmWY8/91dQXBlMBms2VQtwAAAAASUVORK5CYII=\"></img></td>\n",
       "      <td id=\"T_51fa4_row1_col5\" class=\"data row1 col5\" >0<br>(0.0%)</td>\n",
       "    </tr>\n",
       "    <tr>\n",
       "      <td id=\"T_51fa4_row2_col0\" class=\"data row2 col0\" >3</td>\n",
       "      <td id=\"T_51fa4_row2_col1\" class=\"data row2 col1\" ><strong>Experience</strong><br>[int64]</td>\n",
       "      <td id=\"T_51fa4_row2_col2\" class=\"data row2 col2\" >Mean (sd) : 20.1 (11.5)<br>min < med < max:<br>-3.0 < 20.0 < 43.0<br>IQR (CV) : 20.0 (1.8)</td>\n",
       "      <td id=\"T_51fa4_row2_col3\" class=\"data row2 col3\" >47 distinct values</td>\n",
       "      <td id=\"T_51fa4_row2_col4\" class=\"data row2 col4\" ><img src = \"data:image/png;base64, iVBORw0KGgoAAAANSUhEUgAAAKQAAABACAYAAACUYNzVAAAAOXRFWHRTb2Z0d2FyZQBNYXRwbG90bGliIHZlcnNpb24zLjYuMiwgaHR0cHM6Ly9tYXRwbG90bGliLm9yZy8o6BhiAAAACXBIWXMAAA9hAAAPYQGoP6dpAAAB/0lEQVR4nO3dMU/CQBiH8feIl4gSLmHqh3LAkU/I6IfqwmKwDYILrQsDJtrSuzb9U5/f4uIpaZ8UemleXF3XBqiYjf0CgGsPY7+AKXDOzcxsGbv88jP2raqs67qKXCuHIPux3Gw2ryGEU9eFeZ6vvPcuy7L3rmuLophvt9s3M/voulYVQfYkhHDKsuyz67r9fv/kvbeYtVPEZ0hIIUhIIUhIIUhIGeSmJnEbxGxiWxmKVM/RUHfZ0dsgKVsZqgdZ1CjnqM1g2z6x2yCJJA+yqpHOUaPJ7UMqHmTcjpsaSCFISJncW3as8/nszCw451p/9xehqqqohfiJIC/Kspyv1+uXmIcc8jxfHY/HLzM7DPDS/hW5IMe8Ui0Wi+gHJGL/Z4opXtXlguRKdbspHiu5IM3u70o1pqkdK+6yIYUgIYUgIYUgIYUgIYUgIYUgIYUgIYUgIYUgIYUgIYUgIYUgIYUgIYUgIYUgIYUgIYUgIYUgIYUgIYUgIYUgIYUgIYUgIYUgIeXPyRWJ45El58agH4kzhcwaRmc3jVJJ+ro0xbkx6EfKTKG20dmNs31Svi6t6xrcl9iZQm34DAkpBAkpBAkpBAkpBAkpBAkpBAkpBAkpBAkpBAkpBAkpBAkpBAkpBAkpBAkpjc9DFkUxj/mjh8Ph0XvvdrvdM2tZe62tqW9RqvgyLHQZTQAAAABJRU5ErkJggg==\"></img></td>\n",
       "      <td id=\"T_51fa4_row2_col5\" class=\"data row2 col5\" >0<br>(0.0%)</td>\n",
       "    </tr>\n",
       "    <tr>\n",
       "      <td id=\"T_51fa4_row3_col0\" class=\"data row3 col0\" >4</td>\n",
       "      <td id=\"T_51fa4_row3_col1\" class=\"data row3 col1\" ><strong>Income</strong><br>[int64]</td>\n",
       "      <td id=\"T_51fa4_row3_col2\" class=\"data row3 col2\" >Mean (sd) : 73.8 (46.0)<br>min < med < max:<br>8.0 < 64.0 < 224.0<br>IQR (CV) : 59.0 (1.6)</td>\n",
       "      <td id=\"T_51fa4_row3_col3\" class=\"data row3 col3\" >162 distinct values</td>\n",
       "      <td id=\"T_51fa4_row3_col4\" class=\"data row3 col4\" ><img src = \"data:image/png;base64, iVBORw0KGgoAAAANSUhEUgAAAKQAAABACAYAAACUYNzVAAAAOXRFWHRTb2Z0d2FyZQBNYXRwbG90bGliIHZlcnNpb24zLjYuMiwgaHR0cHM6Ly9tYXRwbG90bGliLm9yZy8o6BhiAAAACXBIWXMAAA9hAAAPYQGoP6dpAAAB8UlEQVR4nO3cMW+CQBiH8fdML6nWSOLEh+pgRz+hYz8Ui0uDGKtd5LrYVAdNPI7wB57fao4wPIEXc+BCCAaomHR9AsC1lzYO6pybmNmiwSH2IYQ61fmgP1oJ0swW6/X6I8uy07MLq6qabjabTzPbpT8tqGsrSMuy7JTn+Xdbx8cwMUNCCkFCCkFCCkFCCkFCCkFCCkFCCkFCCkFCCkFCCkFCCkFCSmubK2Kdz2dnZplzLmb536LYXcdse+uYXJD7/X66Wq3e8zz/enZtURRL772LWcu2Nw1yQZqZzefzqK1rZVnOvPfGtrf+YoaElLtXyIavIWR1XUcNgRi3R7fs6NcQiqJYHo/HHzM7xJ8axujhDBn7GkJZlrP4U8KYMUNCCkFCCkFCCkFCCkFCCkFCCkFCCkFCCkFCCkFCCkFCCkFCCkFCCkFCCkFCCkFCCkFCCkFCCkFCiuR72V1o+MUMM756kQRBXjT5YgZfvUiHIK/EfjED6TBDQgpXyASYP9MhyASYP9MhyERi50+urrcIsmNcXW8RpACe7v/xlA0pXCF7bIjzJ0H22BDnT4LsuaHNnwQ5Uqq3e4IcKdXbPUGOmOLtnr99IIUgIYUgIYUgIeXhQ01VVdOYgx4Oh1fvvdtut2+sHd7aSxfRfxmFEHb3fvsFTDPrZGdJoS4AAAAASUVORK5CYII=\"></img></td>\n",
       "      <td id=\"T_51fa4_row3_col5\" class=\"data row3 col5\" >0<br>(0.0%)</td>\n",
       "    </tr>\n",
       "    <tr>\n",
       "      <td id=\"T_51fa4_row4_col0\" class=\"data row4 col0\" >5</td>\n",
       "      <td id=\"T_51fa4_row4_col1\" class=\"data row4 col1\" ><strong>ZIP Code</strong><br>[int64]</td>\n",
       "      <td id=\"T_51fa4_row4_col2\" class=\"data row4 col2\" >Mean (sd) : 93152.5 (2121.9)<br>min < med < max:<br>9307.0 < 93437.0 < 96651.0<br>IQR (CV) : 2697.0 (43.9)</td>\n",
       "      <td id=\"T_51fa4_row4_col3\" class=\"data row4 col3\" >467 distinct values</td>\n",
       "      <td id=\"T_51fa4_row4_col4\" class=\"data row4 col4\" ><img src = \"data:image/png;base64, iVBORw0KGgoAAAANSUhEUgAAAKQAAABACAYAAACUYNzVAAAAOXRFWHRTb2Z0d2FyZQBNYXRwbG90bGliIHZlcnNpb24zLjYuMiwgaHR0cHM6Ly9tYXRwbG90bGliLm9yZy8o6BhiAAAACXBIWXMAAA9hAAAPYQGoP6dpAAABH0lEQVR4nO3WsU4CURBA0X2Ehoa15Lcs+UJKf80lMXSurQXRiEYuyTntZF6muMUb67pOULG59wHw2fbeB/B4xhibaZr2v3jivK7r+7WBILnF/ng8Ps/zfPnp4rIsu9Pp9DJN0+u1uSC5yTzPl8Ph8PbX7/pDkiJIUgRJiiBJESQpgiRFkKQIkhRBkiJIUgRJiiBJESQpgiRFkKQIkhRBkiJIUgRJiiBJESQpgiRFkKQIkhRBkiJIUgRJiiBJESQpgiRFkKQIkhRBkiJIUgRJiiBJESQpgiRFkKQIkhRBkiJIUgRJiiBJESQpgiRFkKQIkhRBkiJIUgRJiiBJESQpgiRFkKQIkhRBkiJIUrZfDccYT/90B49lXpZld8vid3sf0GYZvm5mT50AAAAASUVORK5CYII=\"></img></td>\n",
       "      <td id=\"T_51fa4_row4_col5\" class=\"data row4 col5\" >0<br>(0.0%)</td>\n",
       "    </tr>\n",
       "    <tr>\n",
       "      <td id=\"T_51fa4_row5_col0\" class=\"data row5 col0\" >6</td>\n",
       "      <td id=\"T_51fa4_row5_col1\" class=\"data row5 col1\" ><strong>Family</strong><br>[int64]</td>\n",
       "      <td id=\"T_51fa4_row5_col2\" class=\"data row5 col2\" >Mean (sd) : 2.4 (1.1)<br>min < med < max:<br>1.0 < 2.0 < 4.0<br>IQR (CV) : 2.0 (2.1)</td>\n",
       "      <td id=\"T_51fa4_row5_col3\" class=\"data row5 col3\" >4 distinct values</td>\n",
       "      <td id=\"T_51fa4_row5_col4\" class=\"data row5 col4\" ><img src = \"data:image/png;base64, iVBORw0KGgoAAAANSUhEUgAAAKQAAABACAYAAACUYNzVAAAAOXRFWHRTb2Z0d2FyZQBNYXRwbG90bGliIHZlcnNpb24zLjYuMiwgaHR0cHM6Ly9tYXRwbG90bGliLm9yZy8o6BhiAAAACXBIWXMAAA9hAAAPYQGoP6dpAAABVklEQVR4nO3dsU7DMBiFUbti6VKveS3GPGFHXo0goW6YBYkytBKJ0t6056xRrH/4BsceUnvvBVLs7j0AnHu59KDWuiulHBas/dF7/1rwPk/oYpCllMM4jq+ttdN/F52maX88Ht9KKe+zJ+MpXQuytNZOwzB83moYsIckiiCJIkiiCJIoVz9qtsZR1fY9VJDFUdXmPVqQjqo27uGCZH1rbo0EyRyrbY0EySxrbY0c+xBFkEQRJFEESRRBEkWQRHHsc2fu3/8S5P25fz8jyADu33/ZQxJFkEQRJFEESRRBEkWQRBEkUQRJFEESRZBEESRRBEkUQRJFkEQRJFEESRRBEkWQRBEkUQRJFEESRZBEESRRBEkUQRJFkEQRJFEESRRBEkWQRBEkUQRJFEESRZBEESRRBEkUQRJFkEQRJFGu/qdmmqb9nEV/3mu11llDLdDMfBNLZ77oGyxaXFYLaCykAAAAAElFTkSuQmCC\"></img></td>\n",
       "      <td id=\"T_51fa4_row5_col5\" class=\"data row5 col5\" >0<br>(0.0%)</td>\n",
       "    </tr>\n",
       "    <tr>\n",
       "      <td id=\"T_51fa4_row6_col0\" class=\"data row6 col0\" >7</td>\n",
       "      <td id=\"T_51fa4_row6_col1\" class=\"data row6 col1\" ><strong>CCAvg</strong><br>[float64]</td>\n",
       "      <td id=\"T_51fa4_row6_col2\" class=\"data row6 col2\" >Mean (sd) : 1.9 (1.7)<br>min < med < max:<br>0.0 < 1.5 < 10.0<br>IQR (CV) : 1.8 (1.1)</td>\n",
       "      <td id=\"T_51fa4_row6_col3\" class=\"data row6 col3\" >108 distinct values</td>\n",
       "      <td id=\"T_51fa4_row6_col4\" class=\"data row6 col4\" ><img src = \"data:image/png;base64, iVBORw0KGgoAAAANSUhEUgAAAKQAAABACAYAAACUYNzVAAAAOXRFWHRTb2Z0d2FyZQBNYXRwbG90bGliIHZlcnNpb24zLjYuMiwgaHR0cHM6Ly9tYXRwbG90bGliLm9yZy8o6BhiAAAACXBIWXMAAA9hAAAPYQGoP6dpAAAB6ElEQVR4nO3cMW7CQBBG4RlkpEAQi1L5PmlTkA5OiKhygpyGhiYytkhIQzZNChqQvIbw235fi3Zx8YwGVthjjAaoGNz7AoBT2bkX3H1gZtMGe1cxxp8G69FDZ4M0s+lyuXwNIRzqblqW5Wi1Wr2Z2S75ytBLl4K0EMIhz/PP/7oYgBkSUggSUggSUggSUggSUggSUggSUggSUi7+MJ7qeDy6mQV3T92CY8eeukmQVVWN5vP5S57nH3XXcuzYbzcJ0sxsMplw7IjamCEhhSAhhSAhhSAhhSAhhSAhhSAhhSAhhSAh5WYnNak4B+83uSA5B+83uSDNOAfvM2ZISCFISCFISCFISCFISCFISCFISCFISCFISCFISCFISCFISCFISCFISCFISCFISCFISCFISCFISCFISCFISCFISCFISJH8X3YqnnrRfp0KkqdetF+ngjTjqRdtxwwJKZ37hEzF/KmBIP8wf2ogyBPMn/dHkHfm7gMzmzbYolOjAkFeQcP5MywWi+fZbPZVd2EXRwWCvIIm8+dms3nKsuw7ZVTo4hcxgryS1PmzKIpx6ns2uRGKohiv1+t3dy9T3/4WMRNkyzW5ERR/VbgYZFmWo5RN9/v9w3A49O12+8ha6bV1l51KHhVijLtzr/0C7ITlTfcdZmcAAAAASUVORK5CYII=\"></img></td>\n",
       "      <td id=\"T_51fa4_row6_col5\" class=\"data row6 col5\" >0<br>(0.0%)</td>\n",
       "    </tr>\n",
       "    <tr>\n",
       "      <td id=\"T_51fa4_row7_col0\" class=\"data row7 col0\" >8</td>\n",
       "      <td id=\"T_51fa4_row7_col1\" class=\"data row7 col1\" ><strong>Education</strong><br>[int64]</td>\n",
       "      <td id=\"T_51fa4_row7_col2\" class=\"data row7 col2\" >Mean (sd) : 1.9 (0.8)<br>min < med < max:<br>1.0 < 2.0 < 3.0<br>IQR (CV) : 2.0 (2.2)</td>\n",
       "      <td id=\"T_51fa4_row7_col3\" class=\"data row7 col3\" >3 distinct values</td>\n",
       "      <td id=\"T_51fa4_row7_col4\" class=\"data row7 col4\" ><img src = \"data:image/png;base64, iVBORw0KGgoAAAANSUhEUgAAAKQAAABACAYAAACUYNzVAAAAOXRFWHRTb2Z0d2FyZQBNYXRwbG90bGliIHZlcnNpb24zLjYuMiwgaHR0cHM6Ly9tYXRwbG90bGliLm9yZy8o6BhiAAAACXBIWXMAAA9hAAAPYQGoP6dpAAABSklEQVR4nO3du06EQACG0ZmNzTY7La9lyRNS+mpistlObCwshEQu+hvOaclMBvIVhMyEOk1TgRSXv14AfPU0d6HWeiml3DbM/TZN0/uG8ZzQbJCllFvf98+ttcdPJx3H8ToMw0sp5XX1yjilpSBLa+3Rdd39txYD3iGJIkiiCJIogiSKIIkiSKIIkiiCJIogiSJIogiSKIIkiiCJIkiiLG4/g+8cuXlbkKxx2OZtQbLKUZu3BbkD54/2I8h9OH+0E0HuxPmjffjsQxRBEkWQRBEkUQRJFEESRZBEESRRBEkUQRJFkEQRJFEESRRBEkWQRBEkUQRJFEESRZBEESRRBEkUQRJFkEQRJFEESRRBEkWQRBEkUQRJFEESRZBEESRRBEkUQRJFkEQRJFEESRRBEmXxtyDjOF7XTPo5rtVaVy3qH2one1Zb73fWBw2kRhhbZJmfAAAAAElFTkSuQmCC\"></img></td>\n",
       "      <td id=\"T_51fa4_row7_col5\" class=\"data row7 col5\" >0<br>(0.0%)</td>\n",
       "    </tr>\n",
       "    <tr>\n",
       "      <td id=\"T_51fa4_row8_col0\" class=\"data row8 col0\" >9</td>\n",
       "      <td id=\"T_51fa4_row8_col1\" class=\"data row8 col1\" ><strong>Mortgage</strong><br>[int64]</td>\n",
       "      <td id=\"T_51fa4_row8_col2\" class=\"data row8 col2\" >Mean (sd) : 56.5 (101.7)<br>min < med < max:<br>0.0 < 0.0 < 635.0<br>IQR (CV) : 101.0 (0.6)</td>\n",
       "      <td id=\"T_51fa4_row8_col3\" class=\"data row8 col3\" >347 distinct values</td>\n",
       "      <td id=\"T_51fa4_row8_col4\" class=\"data row8 col4\" ><img src = \"data:image/png;base64, iVBORw0KGgoAAAANSUhEUgAAAKQAAABACAYAAACUYNzVAAAAOXRFWHRTb2Z0d2FyZQBNYXRwbG90bGliIHZlcnNpb24zLjYuMiwgaHR0cHM6Ly9tYXRwbG90bGliLm9yZy8o6BhiAAAACXBIWXMAAA9hAAAPYQGoP6dpAAAB0klEQVR4nO3dsW7CMBRG4esqqE2LCKOfiKkDlbrwhBETA+rY92GgIo5AmcCdWnUBKQbKH3K+NbrGw7GVTLgYowEqHm69AeCv7NgD59yDmY3OWLuOMR7OmEcPHQ3SzEaz2eytKIqm7aIhhLwsy4WZVck7Qy+dCtKKomi897v/2gzAOySkECSkECSkECSkECSkECSkECSkECSkECSkECSkECSkECSkECSkECSkECSkECSkECSkECSkECSkECSkECSkECSkECSkECSkECSkECSkECSkECSkECSkECSkECSkECSkECSkECSkECSkECSkECSkECSkECSkECSkECSkECSkECSkECSkECSkECSkECSkECSknPwD91T7/d6ZWeGcS12ijjEeLrgldMRVgqzrOp9Op6/e+6+2syGEvCzLhZlVl98Z1F0lSDOz4XDYeO93bee4XfvtakGm4nbtN7kgzdJvV3QfX9mQInlDpuL9s/vuKkjeP7vvroI04+u+6+4uyFTn3K6bzeZ5Pp9/OudCwk//nICYMGt2ZwfhZJAhhDxl0e12+zQYDNxqtXrp2Gzbsd/ZyWTyPh6Pq7az6/V6nGWZpcw2TfO4XC4/Eg/CzcQYq2PPvgHmPpqTW7i8LgAAAABJRU5ErkJggg==\"></img></td>\n",
       "      <td id=\"T_51fa4_row8_col5\" class=\"data row8 col5\" >0<br>(0.0%)</td>\n",
       "    </tr>\n",
       "    <tr>\n",
       "      <td id=\"T_51fa4_row9_col0\" class=\"data row9 col0\" >10</td>\n",
       "      <td id=\"T_51fa4_row9_col1\" class=\"data row9 col1\" ><strong>Personal Loan</strong><br>[int64]</td>\n",
       "      <td id=\"T_51fa4_row9_col2\" class=\"data row9 col2\" >Mean (sd) : 0.1 (0.3)<br>min < med < max:<br>0.0 < 0.0 < 1.0<br>IQR (CV) : 0.0 (0.3)</td>\n",
       "      <td id=\"T_51fa4_row9_col3\" class=\"data row9 col3\" >2 distinct values</td>\n",
       "      <td id=\"T_51fa4_row9_col4\" class=\"data row9 col4\" ><img src = \"data:image/png;base64, iVBORw0KGgoAAAANSUhEUgAAAKQAAABACAYAAACUYNzVAAAAOXRFWHRTb2Z0d2FyZQBNYXRwbG90bGliIHZlcnNpb24zLjYuMiwgaHR0cHM6Ly9tYXRwbG90bGliLm9yZy8o6BhiAAAACXBIWXMAAA9hAAAPYQGoP6dpAAABV0lEQVR4nO3WMU4DMRCG0XFEkyZu91op94RbcjWMhNJhGgqKBIkNgh/xXjvyaIqvcJtzFqQ4/PYB8NHDrUFr7VBVpzt2P885X+94zz90M8iqOq3reu69X766dIxx3Lbtsaqedl/Gv/RZkNV7vyzL8vJTx4A/JFEESRRBEkWQRBEkUQRJFEESRZBEESRRBEkUQRJFkEQRJFEESRRBEkWQRBEkUQRJFEESRZBEESRRBEkUQRJFkEQRJFEESRRBEkWQRBEkUQRJFEESRZBEESRRBEkUQRJFkEQRJFEESRRBEkWQRBEkUQRJFEESRZBEESRRBEkUQRJFkEQRJFEESRRBEkWQRHn47QP4e1prh6o63bHiec75em0gSPY4ret67r1fvvpwjHHctu2xqp6uzQXJLr33y7IsL9+91x+SKIIkiiCJ8ukfcoxx3LP0/V1vre06inj9zjZuegOz4C/a22q9WAAAAABJRU5ErkJggg==\"></img></td>\n",
       "      <td id=\"T_51fa4_row9_col5\" class=\"data row9 col5\" >0<br>(0.0%)</td>\n",
       "    </tr>\n",
       "    <tr>\n",
       "      <td id=\"T_51fa4_row10_col0\" class=\"data row10 col0\" >11</td>\n",
       "      <td id=\"T_51fa4_row10_col1\" class=\"data row10 col1\" ><strong>Securities Account</strong><br>[int64]</td>\n",
       "      <td id=\"T_51fa4_row10_col2\" class=\"data row10 col2\" >Mean (sd) : 0.1 (0.3)<br>min < med < max:<br>0.0 < 0.0 < 1.0<br>IQR (CV) : 0.0 (0.3)</td>\n",
       "      <td id=\"T_51fa4_row10_col3\" class=\"data row10 col3\" >2 distinct values</td>\n",
       "      <td id=\"T_51fa4_row10_col4\" class=\"data row10 col4\" ><img src = \"data:image/png;base64, iVBORw0KGgoAAAANSUhEUgAAAKQAAABACAYAAACUYNzVAAAAOXRFWHRTb2Z0d2FyZQBNYXRwbG90bGliIHZlcnNpb24zLjYuMiwgaHR0cHM6Ly9tYXRwbG90bGliLm9yZy8o6BhiAAAACXBIWXMAAA9hAAAPYQGoP6dpAAABV0lEQVR4nO3XMU4DMRCG0XFEkyZu91op94RbcjWMhNJhGgqKBIkNgh/xXmt5NMVX2G3OWZDi8NsLwEcPtw5aa4eqOt0x+3nO+XrHff6hm0FW1Wld13Pv/fLVoWOM47Ztj1X1tHsz/qXPgqze+2VZlpefWga8IYkiSKIIkiiCJIogiSJIogiSKIIkiiCJIkiiCJIogiSKIIkiSKIIkiiCJIogiSJIogiSKIIkiiCJIkiiCJIogiSKIIkiSKIIkiiCJIogiSJIogiSKIIkiiCJIkiiCJIogiSKIIkiSKIIkiiCJIogiSJIogiSKIIkiiCJIkiiCJIogiSKIIkiSKIIkigPv70Af09r7VBVpztGPM85X68dCJI9Tuu6nnvvl69eHGMct217rKqna+eCZJfe+2VZlpfvnusNSRRBEkWQRBEkUT791IwxjnuGvt/rrbVdSxGv39nGTW/Jiy/a9/FuLgAAAABJRU5ErkJggg==\"></img></td>\n",
       "      <td id=\"T_51fa4_row10_col5\" class=\"data row10 col5\" >0<br>(0.0%)</td>\n",
       "    </tr>\n",
       "    <tr>\n",
       "      <td id=\"T_51fa4_row11_col0\" class=\"data row11 col0\" >12</td>\n",
       "      <td id=\"T_51fa4_row11_col1\" class=\"data row11 col1\" ><strong>CD Account</strong><br>[int64]</td>\n",
       "      <td id=\"T_51fa4_row11_col2\" class=\"data row11 col2\" >Mean (sd) : 0.1 (0.2)<br>min < med < max:<br>0.0 < 0.0 < 1.0<br>IQR (CV) : 0.0 (0.3)</td>\n",
       "      <td id=\"T_51fa4_row11_col3\" class=\"data row11 col3\" >2 distinct values</td>\n",
       "      <td id=\"T_51fa4_row11_col4\" class=\"data row11 col4\" ><img src = \"data:image/png;base64, iVBORw0KGgoAAAANSUhEUgAAAKQAAABACAYAAACUYNzVAAAAOXRFWHRTb2Z0d2FyZQBNYXRwbG90bGliIHZlcnNpb24zLjYuMiwgaHR0cHM6Ly9tYXRwbG90bGliLm9yZy8o6BhiAAAACXBIWXMAAA9hAAAPYQGoP6dpAAABV0lEQVR4nO3WMU4DMRCG0XFEkyZu91op94RbcjWMhNJhGgqKBIkNgh/xXmt5NMUny23OWZDi8NsLwEcPtw5aa4eqOt0x+3nO+XrHff6hm0FW1Wld13Pv/fLVoWOM47Ztj1X1tHsz/qXPgqze+2VZlpefWgb8IYkiSKIIkiiCJIogiSJIogiSKIIkiiCJIkiiCJIogiSKIIkiSKIIkiiCJIogiSJIogiSKIIkiiCJIkiiCJIogiSKIIkiSKIIkiiCJIogiSJIogiSKIIkiiCJIkiiCJIogiSKIIkiSKIIkiiCJIogiSJIogiSKIIkiiCJIkiiCJIogiSKIIkiSKIIkiiCJIogiSJIojz89gL8Pa21Q1Wd7hjxPOd8vXYgSPY4ret67r1fvnpxjHHctu2xqp6unQuSXXrvl2VZXr57rj8kUT59IccYxz1D3+/11tqupYjX72zjpjeIii/a5yOnngAAAABJRU5ErkJggg==\"></img></td>\n",
       "      <td id=\"T_51fa4_row11_col5\" class=\"data row11 col5\" >0<br>(0.0%)</td>\n",
       "    </tr>\n",
       "    <tr>\n",
       "      <td id=\"T_51fa4_row12_col0\" class=\"data row12 col0\" >13</td>\n",
       "      <td id=\"T_51fa4_row12_col1\" class=\"data row12 col1\" ><strong>Online</strong><br>[int64]</td>\n",
       "      <td id=\"T_51fa4_row12_col2\" class=\"data row12 col2\" >Mean (sd) : 0.6 (0.5)<br>min < med < max:<br>0.0 < 1.0 < 1.0<br>IQR (CV) : 1.0 (1.2)</td>\n",
       "      <td id=\"T_51fa4_row12_col3\" class=\"data row12 col3\" >2 distinct values</td>\n",
       "      <td id=\"T_51fa4_row12_col4\" class=\"data row12 col4\" ><img src = \"data:image/png;base64, iVBORw0KGgoAAAANSUhEUgAAAKQAAABACAYAAACUYNzVAAAAOXRFWHRTb2Z0d2FyZQBNYXRwbG90bGliIHZlcnNpb24zLjYuMiwgaHR0cHM6Ly9tYXRwbG90bGliLm9yZy8o6BhiAAAACXBIWXMAAA9hAAAPYQGoP6dpAAABOUlEQVR4nO3dMU7DQBRAQTuiSRO3uRZlTpiSq2EklA7TUFDEkXCIeEgz7WpXW7xiC395XJZlgIrdX18Avnv66wvw/4zjuBuG4XDHEW/LsnxcWxAkWxxOp9PzNE2Xn26c53l/Pp9fhmF4vbYuSDaZpulyPB7ff/tcb0hSBEmKIEkRJCmCJEWQpAiSFEGSIkhSBEmKIEkRJCmCJEWQpAiSFEGSIkhSVr8Yf+TcBKy5NcLwsLkJWHNzpuZRcxOwxhuSFEGSIkhSBEmKIEkRJCmCJEWQpAiSFEGSIkhSBEmKIEkRJCmCJEWQpAiSFEGSIkhSBEmKIEkRJCmCJEWQpAiSFEGSIkhSBEmKIEkRJCmCJEWQpAiSFEGSIkhSBEmKIEkRJCk3fwsyz/N+y6Ff+6ZxHDddirzpzjZWfQKqbi/aF9RvLAAAAABJRU5ErkJggg==\"></img></td>\n",
       "      <td id=\"T_51fa4_row12_col5\" class=\"data row12 col5\" >0<br>(0.0%)</td>\n",
       "    </tr>\n",
       "    <tr>\n",
       "      <td id=\"T_51fa4_row13_col0\" class=\"data row13 col0\" >14</td>\n",
       "      <td id=\"T_51fa4_row13_col1\" class=\"data row13 col1\" ><strong>CreditCard</strong><br>[int64]</td>\n",
       "      <td id=\"T_51fa4_row13_col2\" class=\"data row13 col2\" >Mean (sd) : 0.3 (0.5)<br>min < med < max:<br>0.0 < 0.0 < 1.0<br>IQR (CV) : 1.0 (0.6)</td>\n",
       "      <td id=\"T_51fa4_row13_col3\" class=\"data row13 col3\" >2 distinct values</td>\n",
       "      <td id=\"T_51fa4_row13_col4\" class=\"data row13 col4\" ><img src = \"data:image/png;base64, iVBORw0KGgoAAAANSUhEUgAAAKQAAABACAYAAACUYNzVAAAAOXRFWHRTb2Z0d2FyZQBNYXRwbG90bGliIHZlcnNpb24zLjYuMiwgaHR0cHM6Ly9tYXRwbG90bGliLm9yZy8o6BhiAAAACXBIWXMAAA9hAAAPYQGoP6dpAAABOElEQVR4nO3coU4DQRRA0dkGg+na/hayX1jJr7EkBMdiEAjahG0KN+k5djOTJ64Ys29a13VAxe6/B4DvHs59mKZpN8bYX3H367quH1ec5w6dDXKMsT8ej0/zPL//9tJlWR5Pp9PzGONl82TcpUtBjnme3w+Hw9tfDQPekKQIkhRBkiJIUgRJiiBJESQpgiRFkKQIkhRBkiJIUgRJiiBJESQpgiRFkKQIkhRBkiJIUgRJiiBJESQpgiRFkKQIkhRBkiJIUgRJiiBJESQpgiRFkKRc3KALP7nl/nlBssXN9s8Lkk1utX/eG5IUQZIiSFIESYogSREkKYIkRZCkCJIUQZIiSFIESYogSREkKYIkRZCkCJIUQZIiSFIESYogSREkKRd/g12W5XHLpV/n5mmaNg1F3nxlG2d9Ak+vL9qUMGQwAAAAAElFTkSuQmCC\"></img></td>\n",
       "      <td id=\"T_51fa4_row13_col5\" class=\"data row13 col5\" >0<br>(0.0%)</td>\n",
       "    </tr>\n",
       "  </tbody>\n",
       "</table>\n"
      ],
      "text/plain": [
       "<pandas.io.formats.style.Styler at 0x28a44f3b610>"
      ]
     },
     "execution_count": 118,
     "metadata": {},
     "output_type": "execute_result"
    }
   ],
   "source": [
    "# summary of your data\n",
    "dfSummary(u_bank_df)"
   ]
  },
  {
   "cell_type": "markdown",
   "id": "f4ce13e7-d015-4af1-a9cc-0ee4c89390d6",
   "metadata": {},
   "source": [
    "# Summary from the intial exploration of data\n",
    "1. The data set universal bank contains a total of 5000 rows and 14 columns.\n",
    "2. The data set have categorical variables which are Education\tMortgage\tPersonal Loan\tSecurities Account\tCD Account\tOnline\tCreditCard.\n",
    "3. If we observe the daa types these are already encoded and have unique value represented as 0 or 1 . for education 1,2,3.\n",
    "4. The data types are int64 except for cCAvg which is float64.\n",
    "5. There is no object data type so there is no need for encoding or type casting.\n",
    "6. If we observe the missing values in each column there are no missing values."
   ]
  },
  {
   "cell_type": "markdown",
   "id": "86d475bb-e5b2-4068-ac75-62984c92218b",
   "metadata": {},
   "source": [
    "# Process the data \n",
    "\n",
    "1. Drop any columns necessary.\n",
    "2. if we observe the id , zip code are nothing to do as they make no sense so i decided to drop those two predictors"
   ]
  },
  {
   "cell_type": "code",
   "execution_count": 119,
   "id": "abd3967f-eed7-45df-87f3-dfb1fcd5aaab",
   "metadata": {},
   "outputs": [],
   "source": [
    "# drop ID, and Zip Code as predictors\n",
    "u_bank_df = u_bank_df.drop(columns=['ID', 'ZIP Code'])"
   ]
  },
  {
   "cell_type": "code",
   "execution_count": 120,
   "id": "47499be8-c101-4bbb-8a7b-b4d9da31b436",
   "metadata": {},
   "outputs": [
    {
     "data": {
      "text/plain": [
       "Index(['Age', 'Experience', 'Income', 'Family', 'CCAvg', 'Education',\n",
       "       'Mortgage', 'Personal Loan', 'Securities Account', 'CD Account',\n",
       "       'Online', 'CreditCard'],\n",
       "      dtype='object')"
      ]
     },
     "execution_count": 120,
     "metadata": {},
     "output_type": "execute_result"
    }
   ],
   "source": [
    "u_bank_df.columns"
   ]
  },
  {
   "cell_type": "markdown",
   "id": "5ea28499-f456-4dda-b803-13ead8410df6",
   "metadata": {},
   "source": [
    "# split the data in to independnet and dependent variables"
   ]
  },
  {
   "cell_type": "code",
   "execution_count": 121,
   "id": "3ed117dd-1d86-4422-ae15-e4d22f4a01ed",
   "metadata": {},
   "outputs": [],
   "source": [
    "\n",
    "X = u_bank_df.drop('Securities Account', axis=1)\n",
    "y=u_bank_df['Securities Account']"
   ]
  },
  {
   "cell_type": "code",
   "execution_count": 122,
   "id": "84670359-af28-4ab5-9b82-5b57c4cca50e",
   "metadata": {},
   "outputs": [],
   "source": [
    "X_train,X_test, y_train, y_test=train_test_split(X, y, test_size=0.25, random_state=42)"
   ]
  },
  {
   "cell_type": "markdown",
   "id": "7fc79431-12fb-4aaa-bcee-0a1b48c1dc48",
   "metadata": {},
   "source": [
    "# Scale the data using standard scalar to remove the influence of range of values"
   ]
  },
  {
   "cell_type": "code",
   "execution_count": 123,
   "id": "8101c4bc-6b44-4c66-8e56-ffd2eb5fe051",
   "metadata": {},
   "outputs": [],
   "source": [
    "sc_X = StandardScaler()\n",
    "X_train = sc_X.fit_transform(X_train)\n",
    "X_test = sc_X.transform(X_test)"
   ]
  },
  {
   "cell_type": "markdown",
   "id": "03165da8-5f14-4d8c-b3bc-ddb3d08e2b1b",
   "metadata": {},
   "source": [
    "# Model the data using the following models\n",
    "1. Logistic regression\n",
    "2. SVC with poly,linear, rbf kernel\n",
    "3. Decision trees"
   ]
  },
  {
   "cell_type": "code",
   "execution_count": 124,
   "id": "fdbcb2ff-92ee-4e39-bf04-6e3b535185d8",
   "metadata": {},
   "outputs": [],
   "source": [
    "performance = pd.DataFrame({\"model\": [], \"Accuracy\": [], \"Precision\": [], \"Recall\": [], \"F1\": []})"
   ]
  },
  {
   "cell_type": "markdown",
   "id": "a4c27d65-fcef-44fd-9ed2-1e580c8fd3f9",
   "metadata": {
    "tags": []
   },
   "source": [
    "# Logistic Regression"
   ]
  },
  {
   "cell_type": "code",
   "execution_count": 125,
   "id": "4aa23183-55e4-4bdf-8538-9c0f77f3fde4",
   "metadata": {},
   "outputs": [],
   "source": [
    "LogitModel = LogisticRegression().fit(X_train, np.ravel(y_train))\n",
    "y_pred= LogitModel.predict(X_test)"
   ]
  },
  {
   "cell_type": "code",
   "execution_count": 126,
   "id": "cf4f4fd1-b0cb-4eec-8b71-4e8d53ed8f31",
   "metadata": {},
   "outputs": [],
   "source": [
    "c_matrix = confusion_matrix(y_test,y_pred)\n",
    "TP = c_matrix[1][1]\n",
    "TN = c_matrix[0][0]\n",
    "FP = c_matrix[0][1]\n",
    "FN = c_matrix[1][0]\n",
    "performance = pd.concat([performance, pd.DataFrame({'model':\"logistic regression\", \n",
    "                                                    'Accuracy': [(TP+TN)/(TP+TN+FP+FN)], \n",
    "                                                    'Precision': [TP/(TP+FP)], \n",
    "                                                    'Recall': [TP/(TP+FN)], \n",
    "                                                    'F1': [2*TP/(2*TP+FP+FN)]\n",
    "                                                     }, index=[0])])"
   ]
  },
  {
   "cell_type": "markdown",
   "id": "bd88aca1-e01b-483b-87d9-6cabd888d517",
   "metadata": {},
   "source": [
    "# SVC with linear kernel"
   ]
  },
  {
   "cell_type": "code",
   "execution_count": 127,
   "id": "a2857c31-23b4-4ce6-9ba7-1df64429ecf8",
   "metadata": {},
   "outputs": [],
   "source": [
    "svmmodel=SVC(kernel=\"linear\").fit(X_train,np.ravel(y_train))\n",
    "y_pred_svclin=svmmodel.predict(X_test)"
   ]
  },
  {
   "cell_type": "code",
   "execution_count": 128,
   "id": "ddf0f2ed-659a-4bd4-afc8-1b9c85275247",
   "metadata": {},
   "outputs": [],
   "source": [
    "c_matrix = confusion_matrix(y_test, y_pred_svclin)\n",
    "TP = c_matrix[1][1]\n",
    "TN = c_matrix[0][0]\n",
    "FP = c_matrix[0][1]\n",
    "FN = c_matrix[1][0]\n",
    "performance = pd.concat([performance, pd.DataFrame({'model':\"linear svm\", \n",
    "                                                    'Accuracy': [(TP+TN)/(TP+TN+FP+FN)], \n",
    "                                                    'Precision': [TP/(TP+FP)], \n",
    "                                                    'Recall': [TP/(TP+FN)], \n",
    "                                                    'F1': [2*TP/(2*TP+FP+FN)]\n",
    "                                                     }, index=[0])])"
   ]
  },
  {
   "cell_type": "markdown",
   "id": "f86a6889-68a3-47b8-b30f-97287d2fca56",
   "metadata": {},
   "source": [
    "# SVC with RBF KERNAL"
   ]
  },
  {
   "cell_type": "code",
   "execution_count": 129,
   "id": "0e9168c7-b3b7-4939-b0ef-6e7fd1f44b87",
   "metadata": {},
   "outputs": [],
   "source": [
    "svm_rbf_model = SVC(kernel=\"rbf\", C=10, gamma=0.01).fit(X_train,np.ravel(y_train))\n",
    "y_pred_svcrbf=svm_rbf_model.predict(X_test)"
   ]
  },
  {
   "cell_type": "code",
   "execution_count": 130,
   "id": "5b07ece9-b854-4f3a-a7bb-b5bc3d048993",
   "metadata": {},
   "outputs": [],
   "source": [
    "c_matrix = confusion_matrix(y_test, y_pred_svcrbf)\n",
    "TP = c_matrix[1][1]\n",
    "TN = c_matrix[0][0]\n",
    "FP = c_matrix[0][1]\n",
    "FN = c_matrix[1][0]\n",
    "performance = pd.concat([performance, pd.DataFrame({'model':\"rbf kernal svm\", \n",
    "                                                    'Accuracy': [(TP+TN)/(TP+TN+FP+FN)], \n",
    "                                                    'Precision': [TP/(TP+FP)], \n",
    "                                                    'Recall': [TP/(TP+FN)], \n",
    "                                                    'F1': [2*TP/(2*TP+FP+FN)]\n",
    "                                                     }, index=[0])])"
   ]
  },
  {
   "cell_type": "markdown",
   "id": "883e1c3f-c74e-45e2-9efb-adc6c041b081",
   "metadata": {},
   "source": [
    "# SVC WITH POLY KERNAL"
   ]
  },
  {
   "cell_type": "code",
   "execution_count": 131,
   "id": "a0b91665-c52f-4218-9a01-88ab1163e0e2",
   "metadata": {},
   "outputs": [],
   "source": [
    "svm_poly_model = SVC(kernel=\"poly\", degree=3, coef0=1, C=10,gamma=0.01).fit(X_train,np.ravel(y_train))\n",
    "y_pred_svcpoly=svm_poly_model.predict(X_test)"
   ]
  },
  {
   "cell_type": "code",
   "execution_count": 132,
   "id": "d056ede8-fe4a-4708-a8de-18eb376cf719",
   "metadata": {},
   "outputs": [],
   "source": [
    "c_matrix = confusion_matrix(y_test, y_pred_svcpoly)\n",
    "TP = c_matrix[1][1]\n",
    "TN = c_matrix[0][0]\n",
    "FP = c_matrix[0][1]\n",
    "FN = c_matrix[1][0]\n",
    "performance = pd.concat([performance, pd.DataFrame({'model':\"poly kernal svm\", \n",
    "                                                    'Accuracy': [(TP+TN)/(TP+TN+FP+FN)], \n",
    "                                                    'Precision': [TP/(TP+FP)], \n",
    "                                                    'Recall': [TP/(TP+FN)], \n",
    "                                                    'F1': [2*TP/(2*TP+FP+FN)]\n",
    "                                                     }, index=[0])])"
   ]
  },
  {
   "cell_type": "markdown",
   "id": "65c267cc-87fd-4fb8-bb35-72ba9943bb81",
   "metadata": {},
   "source": [
    "# Decision Trees"
   ]
  },
  {
   "cell_type": "code",
   "execution_count": 133,
   "id": "57831016-8469-4d34-8bf4-95391dfc8280",
   "metadata": {},
   "outputs": [],
   "source": [
    "dtree = DecisionTreeClassifier().fit(X_train, np.ravel(y_train))\n",
    "y_pred_dtree=dtree.predict(X_test)"
   ]
  },
  {
   "cell_type": "code",
   "execution_count": 134,
   "id": "443777ec-6ee3-4396-827b-95cd5e2b6e5e",
   "metadata": {},
   "outputs": [],
   "source": [
    "c_matrix = confusion_matrix(y_test, y_pred_dtree)\n",
    "TP = c_matrix[1][1]\n",
    "TN = c_matrix[0][0]\n",
    "FP = c_matrix[0][1]\n",
    "FN = c_matrix[1][0]\n",
    "performance = pd.concat([performance, pd.DataFrame({'model':\"Decision Tree\", \n",
    "                                                    'Accuracy': [(TP+TN)/(TP+TN+FP+FN)], \n",
    "                                                    'Precision': [TP/(TP+FP)], \n",
    "                                                    'Recall': [TP/(TP+FN)], \n",
    "                                                    'F1': [2*TP/(2*TP+FP+FN)]\n",
    "                                                     }, index=[0])])"
   ]
  },
  {
   "cell_type": "code",
   "execution_count": 135,
   "id": "2dc4e849-07d6-49a9-98cb-82e47066ade7",
   "metadata": {},
   "outputs": [
    {
     "data": {
      "text/html": [
       "<div>\n",
       "<style scoped>\n",
       "    .dataframe tbody tr th:only-of-type {\n",
       "        vertical-align: middle;\n",
       "    }\n",
       "\n",
       "    .dataframe tbody tr th {\n",
       "        vertical-align: top;\n",
       "    }\n",
       "\n",
       "    .dataframe thead th {\n",
       "        text-align: right;\n",
       "    }\n",
       "</style>\n",
       "<table border=\"1\" class=\"dataframe\">\n",
       "  <thead>\n",
       "    <tr style=\"text-align: right;\">\n",
       "      <th></th>\n",
       "      <th>model</th>\n",
       "      <th>Accuracy</th>\n",
       "      <th>Precision</th>\n",
       "      <th>Recall</th>\n",
       "      <th>F1</th>\n",
       "    </tr>\n",
       "  </thead>\n",
       "  <tbody>\n",
       "    <tr>\n",
       "      <th>0</th>\n",
       "      <td>Decision Tree</td>\n",
       "      <td>0.8328</td>\n",
       "      <td>0.263514</td>\n",
       "      <td>0.280576</td>\n",
       "      <td>0.271777</td>\n",
       "    </tr>\n",
       "    <tr>\n",
       "      <th>0</th>\n",
       "      <td>linear svm</td>\n",
       "      <td>0.8936</td>\n",
       "      <td>0.578947</td>\n",
       "      <td>0.158273</td>\n",
       "      <td>0.248588</td>\n",
       "    </tr>\n",
       "    <tr>\n",
       "      <th>0</th>\n",
       "      <td>logistic regression</td>\n",
       "      <td>0.8960</td>\n",
       "      <td>0.600000</td>\n",
       "      <td>0.194245</td>\n",
       "      <td>0.293478</td>\n",
       "    </tr>\n",
       "    <tr>\n",
       "      <th>0</th>\n",
       "      <td>poly kernal svm</td>\n",
       "      <td>0.8968</td>\n",
       "      <td>0.613636</td>\n",
       "      <td>0.194245</td>\n",
       "      <td>0.295082</td>\n",
       "    </tr>\n",
       "    <tr>\n",
       "      <th>0</th>\n",
       "      <td>rbf kernal svm</td>\n",
       "      <td>0.9000</td>\n",
       "      <td>0.652174</td>\n",
       "      <td>0.215827</td>\n",
       "      <td>0.324324</td>\n",
       "    </tr>\n",
       "  </tbody>\n",
       "</table>\n",
       "</div>"
      ],
      "text/plain": [
       "                 model  Accuracy  Precision    Recall        F1\n",
       "0        Decision Tree    0.8328   0.263514  0.280576  0.271777\n",
       "0           linear svm    0.8936   0.578947  0.158273  0.248588\n",
       "0  logistic regression    0.8960   0.600000  0.194245  0.293478\n",
       "0      poly kernal svm    0.8968   0.613636  0.194245  0.295082\n",
       "0       rbf kernal svm    0.9000   0.652174  0.215827  0.324324"
      ]
     },
     "execution_count": 135,
     "metadata": {},
     "output_type": "execute_result"
    }
   ],
   "source": [
    "performance.sort_values(['Precision'])"
   ]
  },
  {
   "cell_type": "markdown",
   "id": "dc5fef0c-16cd-4d73-bd1c-89ea2d650436",
   "metadata": {},
   "source": [
    "# Analysis from the above models\n",
    "\n",
    "1. Firstly as per question it is mentioned that consider the precision as the best metric.\n",
    "2. I have just fit the models which we covered so far in our classes (Logistic regression, SVC linear, poly,rbf kernals, Decision trees).\n",
    "3. Among all the models ie. svc rbf kernel is having high precision value.\n",
    "4. How ever we will use grid search cv and random search cv for optimising our precision values and see the results and then decide which model is best"
   ]
  },
  {
   "cell_type": "markdown",
   "id": "1011bdbf-29bf-4e48-8c52-4cf8b2291460",
   "metadata": {},
   "source": [
    "# Logistic regression with grid search cv"
   ]
  },
  {
   "cell_type": "code",
   "execution_count": 34,
   "id": "8c018bd9-8669-4378-b68f-e7aa8b88b975",
   "metadata": {},
   "outputs": [
    {
     "name": "stdout",
     "output_type": "stream",
     "text": [
      "Fitting 5 folds for each of 42 candidates, totalling 210 fits\n",
      "The best precision score is 0.8333333333333333\n",
      "... with parameters: {'C': 0.01, 'penalty': 'l2', 'solver': 'newton-cg'}\n"
     ]
    }
   ],
   "source": [
    "score_measure = \"precision\"\n",
    "kfolds = 5\n",
    "\n",
    "param_grid = {\n",
    "    'penalty' : ['l1','l2'], \n",
    "    'C'       : np.logspace(-3,3,7),\n",
    "    'solver'  : ['newton-cg', 'lbfgs', 'liblinear'],\n",
    "}\n",
    "\n",
    "log_grid = LogisticRegression()\n",
    "grid_search_logistic = GridSearchCV(estimator = log_grid, param_grid=param_grid, cv=kfolds, \n",
    "                           scoring=score_measure, verbose=1, n_jobs=-1,  # n_jobs=-1 will utilize all available CPUs \n",
    "                           return_train_score=True)\n",
    "\n",
    "_ = grid_search_logistic.fit(X_train, y_train)\n",
    "\n",
    "print(f\"The best {score_measure} score is {grid_search_logistic.best_score_}\")\n",
    "print(f\"... with parameters: {grid_search_logistic.best_params_}\")\n",
    "\n",
    "bestPrecision_values_grid_log = grid_search_logistic.best_estimator_"
   ]
  },
  {
   "cell_type": "markdown",
   "id": "37be432e-a0e1-4c5f-95f0-74eaa6870141",
   "metadata": {},
   "source": [
    "# Logistic regression with random search cv"
   ]
  },
  {
   "cell_type": "code",
   "execution_count": 37,
   "id": "f802770d-c926-4426-a768-9744e5b43172",
   "metadata": {},
   "outputs": [
    {
     "name": "stdout",
     "output_type": "stream",
     "text": [
      "Fitting 5 folds for each of 42 candidates, totalling 210 fits\n",
      "The best precision score is 0.8333333333333333\n",
      "... with parameters: {'solver': 'newton-cg', 'penalty': 'l2', 'C': 0.01}\n"
     ]
    }
   ],
   "source": [
    "score_measure = \"precision\"\n",
    "kfolds = 5\n",
    "\n",
    "param_grid = {\n",
    "    'penalty' : ['l1','l2'], \n",
    "    'C'       : np.logspace(-3,3,7),\n",
    "    'solver'  : ['newton-cg', 'lbfgs', 'liblinear'],\n",
    "}\n",
    "\n",
    "log_rand = LogisticRegression()\n",
    "rand_search_logistic = RandomizedSearchCV(estimator = log_rand, param_distributions=param_grid, cv=kfolds, n_iter=500,\n",
    "                           scoring=score_measure, verbose=1, n_jobs=-1,  # n_jobs=-1 will utilize all available CPUs \n",
    "                           return_train_score=True)\n",
    "\n",
    "_ = rand_search_logistic.fit(X_train, y_train)\n",
    "\n",
    "print(f\"The best {score_measure} score is {rand_search_logistic.best_score_}\")\n",
    "print(f\"... with parameters: {rand_search_logistic.best_params_}\")\n",
    "\n",
    "bestprecision_values_rand_log = rand_search_logistic.best_estimator_"
   ]
  },
  {
   "cell_type": "markdown",
   "id": "fdd014be-6041-4876-9b62-e435444da0fb",
   "metadata": {},
   "source": [
    "# SVM linear kernel with grid search cv "
   ]
  },
  {
   "cell_type": "code",
   "execution_count": 44,
   "id": "1b9edb45-f6da-4500-84c0-88ff960cbb11",
   "metadata": {},
   "outputs": [
    {
     "name": "stdout",
     "output_type": "stream",
     "text": [
      "Fitting 5 folds for each of 16 candidates, totalling 80 fits\n",
      "The best precision score is 0.5974679487179487\n",
      "... with parameters: {'C': 0.1, 'gamma': 1, 'kernel': 'linear'}\n"
     ]
    }
   ],
   "source": [
    "score_measure = \"precision\"\n",
    "kfolds = 5\n",
    "\n",
    "param_grid = {\n",
    "     'C': [0.1,1, 10, 100], \n",
    "     'gamma': [1,0.1,0.01,0.001],\n",
    "    'kernel': ['linear']\n",
    "}\n",
    "\n",
    "svm_linear = SVC()\n",
    "grid_search_svmlin = GridSearchCV(estimator = svm_linear, param_grid=param_grid, cv=kfolds, \n",
    "                           scoring=score_measure, verbose=1, n_jobs=-1,  # n_jobs=-1 will utilize all available CPUs \n",
    "                           return_train_score=True)\n",
    "\n",
    "_ = grid_search_svmlin.fit(X_train, y_train)\n",
    "\n",
    "print(f\"The best {score_measure} score is {grid_search_svmlin.best_score_}\")\n",
    "print(f\"... with parameters: {grid_search_svmlin.best_params_}\")\n",
    "\n",
    "bestPrecisionTree_linear_svm_grd = grid_search_svmlin.best_estimator_"
   ]
  },
  {
   "cell_type": "markdown",
   "id": "c80f3e32-fee9-466f-b703-163fecfa91df",
   "metadata": {},
   "source": [
    "# SVM linear with random search cv"
   ]
  },
  {
   "cell_type": "code",
   "execution_count": 45,
   "id": "7388647c-4b0f-4773-a255-e72d3217b033",
   "metadata": {},
   "outputs": [
    {
     "name": "stdout",
     "output_type": "stream",
     "text": [
      "Fitting 5 folds for each of 16 candidates, totalling 80 fits\n",
      "The best precision score is 0.5974679487179487\n",
      "... with parameters: {'kernel': 'linear', 'gamma': 1, 'C': 0.1}\n"
     ]
    }
   ],
   "source": [
    "score_measure = \"precision\"\n",
    "kfolds = 5\n",
    "\n",
    "param_grid = {\n",
    "     'C': [0.1,1, 10, 100], \n",
    "     'gamma': [1,0.1,0.01,0.001],\n",
    "    'kernel': ['linear']\n",
    "}\n",
    "\n",
    "svc_linear_rs = SVC()\n",
    "rand_search_svmlin = RandomizedSearchCV(estimator = svc_linear_rs, param_distributions=param_grid, cv=kfolds, n_iter=500,\n",
    "                           scoring=score_measure, verbose=1, n_jobs=-1,  # n_jobs=-1 will utilize all available CPUs \n",
    "                           return_train_score=True)\n",
    "\n",
    "_ = rand_search_svmlin.fit(X_train, y_train)\n",
    "\n",
    "print(f\"The best {score_measure} score is {rand_search_svmlin.best_score_}\")\n",
    "print(f\"... with parameters: {rand_search_svmlin.best_params_}\")\n",
    "\n",
    "bestPrecisionTree_svm_linear_rand = rand_search_svmlin.best_estimator_"
   ]
  },
  {
   "cell_type": "markdown",
   "id": "d89c05bb-5ae5-4b39-b658-711200db42a3",
   "metadata": {},
   "source": [
    "# SVM RBF KERNAL WITH GRID SEARCH CV"
   ]
  },
  {
   "cell_type": "code",
   "execution_count": 32,
   "id": "d438179a-739f-4594-b6bd-e68af785ad48",
   "metadata": {},
   "outputs": [
    {
     "name": "stdout",
     "output_type": "stream",
     "text": [
      "Fitting 5 folds for each of 80 candidates, totalling 400 fits\n",
      "The best precision score is 0.7433333333333333\n",
      "... with parameters: {'C': 1, 'degree': 1, 'gamma': 1, 'kernel': 'rbf'}\n"
     ]
    }
   ],
   "source": [
    "score_measure = \"precision\"\n",
    "kfolds = 5\n",
    "\n",
    "param_grid = {\n",
    "     'C': [1,10,20, 100], \n",
    "     'gamma': [1,0.1,0.01,0.001],\n",
    "     'degree':[1,2,3,4,6],\n",
    "    'kernel': ['rbf'],\n",
    "}\n",
    "\n",
    "svm_rbf = SVC()\n",
    "grid_search_svmrbf = GridSearchCV(estimator = svm_rbf, param_grid=param_grid, cv=kfolds, \n",
    "                           scoring=score_measure, verbose=1, n_jobs=-1,  # n_jobs=-1 will utilize all available CPUs \n",
    "                           return_train_score=True)\n",
    "\n",
    "_ = grid_search_svmrbf.fit(X_train, y_train)\n",
    "\n",
    "print(f\"The best {score_measure} score is {grid_search_svmrbf.best_score_}\")\n",
    "print(f\"... with parameters: {grid_search_svmrbf.best_params_}\")\n",
    "\n",
    "bestPrecisionTree_svmrbf_grd = grid_search_svmrbf.best_estimator_"
   ]
  },
  {
   "cell_type": "markdown",
   "id": "fb5f1267-eac5-443c-a4cc-65d5455d5c13",
   "metadata": {},
   "source": [
    "# SVM RBF KERNAL WITH Random SEARCH CV"
   ]
  },
  {
   "cell_type": "code",
   "execution_count": 33,
   "id": "6de24db6-6d79-4462-95cd-258fc1cd4b3b",
   "metadata": {},
   "outputs": [
    {
     "name": "stdout",
     "output_type": "stream",
     "text": [
      "Fitting 5 folds for each of 48 candidates, totalling 240 fits\n",
      "The best precision score is 0.7433333333333333\n",
      "... with parameters: {'kernel': 'rbf', 'gamma': 1, 'degree': 2, 'C': 1}\n"
     ]
    }
   ],
   "source": [
    "score_measure = \"precision\"\n",
    "kfolds = 5\n",
    "\n",
    "param_grid = {\n",
    "     'C': [0.1,1, 10, 100], \n",
    "    'gamma': [1,0.1,0.01,0.001],\n",
    "     'degree':[2,3,4],\n",
    "    'kernel': ['rbf'],\n",
    "}\n",
    "\n",
    "svc_rbf_rs = SVC()\n",
    "rand_search_svcrbf = RandomizedSearchCV(estimator = svc_rbf_rs, param_distributions=param_grid, cv=kfolds, n_iter=500,\n",
    "                           scoring=score_measure, verbose=1, n_jobs=-1,  # n_jobs=-1 will utilize all available CPUs \n",
    "                           return_train_score=True)\n",
    "\n",
    "_ = rand_search_svcrbf.fit(X_train, y_train)\n",
    "\n",
    "print(f\"The best {score_measure} score is {rand_search_svcrbf.best_score_}\")\n",
    "print(f\"... with parameters: {rand_search_svcrbf.best_params_}\")\n",
    "\n",
    "bestPrecisionTree_svm_rbf_rand = rand_search_svcrbf.best_estimator_"
   ]
  },
  {
   "cell_type": "markdown",
   "id": "f8b88905-2757-4e17-bbe4-de4b4cd00f56",
   "metadata": {},
   "source": [
    "# svc with poly kernal with grid search cv"
   ]
  },
  {
   "cell_type": "code",
   "execution_count": 107,
   "id": "1a71ac62-ada7-447d-afc2-68ae075f4604",
   "metadata": {},
   "outputs": [
    {
     "name": "stdout",
     "output_type": "stream",
     "text": [
      "Fitting 5 folds for each of 48 candidates, totalling 240 fits\n",
      "The best precision score is 0.7175757575757575\n",
      "... with parameters: {'C': 10, 'degree': 3, 'gamma': 0.01, 'kernel': 'poly'}\n"
     ]
    }
   ],
   "source": [
    "score_measure = \"precision\"\n",
    "kfolds = 5\n",
    "\n",
    "param_grid = {\n",
    "    'C': [0.1,1, 10, 100], \n",
    "    'gamma': [1,0.1,0.01,0.001],\n",
    "    'degree':[2,3,4],\n",
    "    'kernel': ['poly']\n",
    "}\n",
    "\n",
    "svm_poly = SVC(max_iter=20000)\n",
    "grid_search_svmpoly = GridSearchCV(estimator = svm_poly, param_grid=param_grid, cv=kfolds, \n",
    "                           scoring=score_measure, verbose=1, n_jobs=-1,  # n_jobs=-1 will utilize all available CPUs \n",
    "                           return_train_score=True)\n",
    "\n",
    "_ = grid_search_svmpoly.fit(X_train, y_train)\n",
    "\n",
    "print(f\"The best {score_measure} score is {grid_search_svmpoly.best_score_}\")\n",
    "print(f\"... with parameters: {grid_search_svmpoly.best_params_}\")\n",
    "\n",
    "bestPrecisionTree_svmpoly = grid_search_svmpoly.best_estimator_"
   ]
  },
  {
   "cell_type": "markdown",
   "id": "a9293f68-ad5b-4c72-a8d5-c9318fd1d002",
   "metadata": {},
   "source": [
    "# SVM poly WITH Random SEARCH CV"
   ]
  },
  {
   "cell_type": "code",
   "execution_count": 102,
   "id": "4f232d7d-83af-494a-8a97-e0dc490ac742",
   "metadata": {},
   "outputs": [
    {
     "name": "stdout",
     "output_type": "stream",
     "text": [
      "Fitting 5 folds for each of 48 candidates, totalling 240 fits\n",
      "The best precision score is 0.7175757575757575\n",
      "... with parameters: {'kernel': 'poly', 'gamma': 0.01, 'degree': 3, 'C': 10}\n"
     ]
    }
   ],
   "source": [
    "score_measure = \"precision\"\n",
    "kfolds = 5\n",
    "\n",
    "param_grid = {\n",
    "     'C': [0.1,1, 10, 100], \n",
    "    'gamma': [1,0.1,0.01,0.001],\n",
    "    'degree':[2,3,4],\n",
    "    'kernel': ['poly']\n",
    "}\n",
    "\n",
    "svc_poly_rs = SVC(max_iter=2000)\n",
    "rand_search_poly = RandomizedSearchCV(estimator = svc_poly_rs, param_distributions=param_grid, cv=kfolds, n_iter=500,\n",
    "                           scoring=score_measure, verbose=1, n_jobs=-1,  # n_jobs=-1 will utilize all available CPUs \n",
    "                           return_train_score=True)\n",
    "\n",
    "_ = rand_search_poly.fit(X_train, y_train)\n",
    "\n",
    "print(f\"The best {score_measure} score is {rand_search_poly.best_score_}\")\n",
    "print(f\"... with parameters: {rand_search_poly.best_params_}\")\n",
    "\n",
    "bestPrecisionTree_svm_poly_rand = rand_search_poly.best_estimator_"
   ]
  },
  {
   "cell_type": "markdown",
   "id": "3fefc4b5-8f4f-4087-a16b-990cbc69217a",
   "metadata": {},
   "source": [
    "# decision tree with grid search cv"
   ]
  },
  {
   "cell_type": "code",
   "execution_count": 30,
   "id": "f5dad4cf-3cbe-417e-a01f-073ff716fdbb",
   "metadata": {},
   "outputs": [
    {
     "name": "stdout",
     "output_type": "stream",
     "text": [
      "Fitting 5 folds for each of 9072 candidates, totalling 45360 fits\n",
      "The best precision score is 0.30414141414141416\n",
      "... with parameters: {'criterion': 'entropy', 'max_depth': 15, 'max_leaf_nodes': 162, 'min_impurity_decrease': 0.0048, 'min_samples_leaf': 6, 'min_samples_split': 30}\n"
     ]
    }
   ],
   "source": [
    "score_measure = \"precision\"\n",
    "kfolds = 5\n",
    "\n",
    "param_grid = {\n",
    "    'min_samples_split': np.arange(30,36),  \n",
    "    'min_samples_leaf': np.arange(6,12),\n",
    "    'min_impurity_decrease': np.arange(0.0048, 0.0054, 0.0001),\n",
    "    'max_leaf_nodes': np.arange(162,168), \n",
    "    'max_depth': np.arange(15,21), \n",
    "    'criterion': ['entropy'],\n",
    "}\n",
    "\n",
    "dtree_grid_cv = DecisionTreeClassifier()\n",
    "grid_search_dtree = GridSearchCV(estimator = dtree_grid_cv, param_grid=param_grid, cv=kfolds, \n",
    "                           scoring=score_measure, verbose=1, n_jobs=-1,  # n_jobs=-1 will utilize all available CPUs \n",
    "                           return_train_score=True)\n",
    "\n",
    "_ = grid_search_dtree.fit(X_train, y_train)\n",
    "\n",
    "print(f\"The best {score_measure} score is {grid_search_dtree.best_score_}\")\n",
    "print(f\"... with parameters: {grid_search_dtree.best_params_}\")\n",
    "\n",
    "bestPrecisionTree_dtree_grid = grid_search_dtree.best_estimator_"
   ]
  },
  {
   "cell_type": "markdown",
   "id": "58cce25e-9159-43ac-b41d-f6f50314cbb3",
   "metadata": {},
   "source": [
    "# decision tree with random search cv"
   ]
  },
  {
   "cell_type": "code",
   "execution_count": 31,
   "id": "5cff628a-be46-4570-b393-aba56c63cb19",
   "metadata": {},
   "outputs": [
    {
     "name": "stdout",
     "output_type": "stream",
     "text": [
      "Fitting 5 folds for each of 500 candidates, totalling 2500 fits\n",
      "The best precision score is 0.6757142857142857\n",
      "... with parameters: {'min_samples_split': 74, 'min_samples_leaf': 19, 'min_impurity_decrease': 0.0006000000000000001, 'max_leaf_nodes': 74, 'max_depth': 12, 'criterion': 'gini'}\n"
     ]
    }
   ],
   "source": [
    "score_measure = \"precision\"\n",
    "kfolds = 5\n",
    "\n",
    "param_grid = {\n",
    "    'min_samples_split': np.arange(1,100),  \n",
    "    'min_samples_leaf': np.arange(1,100),\n",
    "    'min_impurity_decrease': np.arange(0.0001, 0.01, 0.0005),\n",
    "    'max_leaf_nodes': np.arange(5, 100), \n",
    "    'max_depth': np.arange(1,50), \n",
    "    'criterion': ['entropy', 'gini'],\n",
    "}\n",
    "\n",
    "dtree_rand = DecisionTreeClassifier()\n",
    "rand_search_rand_tree = RandomizedSearchCV(estimator = dtree_rand, param_distributions=param_grid, cv=kfolds, n_iter=500,\n",
    "                           scoring=score_measure, verbose=1, n_jobs=-1,  # n_jobs=-1 will utilize all available CPUs \n",
    "                           return_train_score=True)\n",
    "\n",
    "_ = rand_search_rand_tree.fit(X_train, y_train)\n",
    "\n",
    "print(f\"The best {score_measure} score is {rand_search_rand_tree.best_score_}\")\n",
    "print(f\"... with parameters: {rand_search_rand_tree.best_params_}\")\n",
    "\n",
    "bestPrecisionTree_randtree = rand_search_rand_tree.best_estimator_"
   ]
  },
  {
   "cell_type": "markdown",
   "id": "8e84b115-952f-475e-bc7b-089d738f1840",
   "metadata": {},
   "source": [
    "# Analysis\n",
    "1. I used grid search cv and random search cv for optimising my precision values.\n",
    "2. If we observe the above reuslts \n",
    "\n",
    "   logistic regression  -   grid search (83.33), randomsearch (83.3)\n",
    "   \n",
    "   svm linear kernel    -   grid search (59)  ,  random search (59)\n",
    "   \n",
    "   svm rbf kernel       -   grid search (74)  ,  random search (74)\n",
    "   \n",
    "   svm poly kernel      -   grid search (71),    random search (71)\n",
    "   \n",
    "   decision tree        -   grid search (30),    random search (67)\n",
    "3. From the above results it is observed that logistic regression model is having highest optimised precision value .\n",
    "4. Before hyper parameter tuning svm rbf kernel is performing best.\n",
    "5. On the whole logistic regression is best model."
   ]
  }
 ],
 "metadata": {
  "kernelspec": {
   "display_name": "Python 3 (ipykernel)",
   "language": "python",
   "name": "python3"
  },
  "language_info": {
   "codemirror_mode": {
    "name": "ipython",
    "version": 3
   },
   "file_extension": ".py",
   "mimetype": "text/x-python",
   "name": "python",
   "nbconvert_exporter": "python",
   "pygments_lexer": "ipython3",
   "version": "3.9.16"
  }
 },
 "nbformat": 4,
 "nbformat_minor": 5
}
