{
 "cells": [
  {
   "cell_type": "markdown",
   "id": "7e5de379-5d6a-450c-9bc1-28478764fe10",
   "metadata": {},
   "source": [
    "# Muralidhar Reddy Reddem U64546777\n",
    "# ISM6251.002S23 DSP"
   ]
  },
  {
   "cell_type": "code",
   "execution_count": null,
   "id": "307ba1e1-350a-4cf3-94f2-dac357244a0a",
   "metadata": {},
   "outputs": [],
   "source": []
  }
 ],
 "metadata": {
  "kernelspec": {
   "display_name": "Python 3 (ipykernel)",
   "language": "python",
   "name": "python3"
  },
  "language_info": {
   "codemirror_mode": {
    "name": "ipython",
    "version": 3
   },
   "file_extension": ".py",
   "mimetype": "text/x-python",
   "name": "python",
   "nbconvert_exporter": "python",
   "pygments_lexer": "ipython3",
   "version": "3.9.13"
  }
 },
 "nbformat": 4,
 "nbformat_minor": 5
}
